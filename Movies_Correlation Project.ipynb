{
 "cells":[
  {
   "cell_type":"code",
   "source":[
    "# import libs\n",
    "# First let's import the packages we will use in this project\n",
    "# You can do this all now or as you need them\n",
    "import pandas as pd\n",
    "import numpy as np\n",
    "import seaborn as sns\n",
    "\n",
    "import matplotlib\n",
    "import matplotlib.pyplot as plt\n",
    "import matplotlib.mlab as mlab\n",
    "\n",
    "plt.style.use('ggplot')\n",
    "from matplotlib.pyplot import figure\n",
    "\n",
    "%matplotlib inline\n",
    "matplotlib.rcParams['figure.figsize'] = (12,8) #adjusts the config of the plotsa we will create\n",
    "\n",
    "\n",
    "\n",
    "\n"
   ],
   "execution_count":55,
   "outputs":[
    
   ],
   "metadata":{
    "datalore":{
     "node_id":"0d74DbpUIM2UZzatLfIdsW",
     "type":"CODE",
     "hide_input_from_viewers":false,
     "hide_output_from_viewers":false
    }
   }
  },
  {
   "cell_type":"code",
   "source":[
    "#read in the data\n",
    "df = pd.read_csv('movies.csv')"
   ],
   "execution_count":56,
   "outputs":[
    
   ],
   "metadata":{
    "datalore":{
     "node_id":"wi5Uwuf0kPCBjKwatOaSHg",
     "type":"CODE",
     "hide_input_from_viewers":false,
     "hide_output_from_viewers":false
    }
   }
  },
  {
   "cell_type":"code",
   "source":[
    "# Roughly look at the data\n",
    "df.head()"
   ],
   "execution_count":57,
   "outputs":[
    {
     "data":{
      "text\/html":[
       "<div>\n",
       "<style scoped>\n",
       "    .dataframe tbody tr th:only-of-type {\n",
       "        vertical-align: middle;\n",
       "    }\n",
       "\n",
       "    .dataframe tbody tr th {\n",
       "        vertical-align: top;\n",
       "    }\n",
       "\n",
       "    .dataframe thead th {\n",
       "        text-align: right;\n",
       "    }\n",
       "<\/style>\n",
       "<table border=\"1\" class=\"dataframe\">\n",
       "  <thead>\n",
       "    <tr style=\"text-align: right;\">\n",
       "      <th><\/th>\n",
       "      <th>name<\/th>\n",
       "      <th>rating<\/th>\n",
       "      <th>genre<\/th>\n",
       "      <th>year<\/th>\n",
       "      <th>released<\/th>\n",
       "      <th>score<\/th>\n",
       "      <th>votes<\/th>\n",
       "      <th>director<\/th>\n",
       "      <th>writer<\/th>\n",
       "      <th>star<\/th>\n",
       "      <th>country<\/th>\n",
       "      <th>budget<\/th>\n",
       "      <th>gross<\/th>\n",
       "      <th>company<\/th>\n",
       "      <th>runtime<\/th>\n",
       "    <\/tr>\n",
       "  <\/thead>\n",
       "  <tbody>\n",
       "    <tr>\n",
       "      <th>0<\/th>\n",
       "      <td>The Shining<\/td>\n",
       "      <td>R<\/td>\n",
       "      <td>Drama<\/td>\n",
       "      <td>1980<\/td>\n",
       "      <td>June 13, 1980 (United States)<\/td>\n",
       "      <td>8.4<\/td>\n",
       "      <td>927000.0<\/td>\n",
       "      <td>Stanley Kubrick<\/td>\n",
       "      <td>Stephen King<\/td>\n",
       "      <td>Jack Nicholson<\/td>\n",
       "      <td>United Kingdom<\/td>\n",
       "      <td>19000000.0<\/td>\n",
       "      <td>46998772.0<\/td>\n",
       "      <td>Warner Bros.<\/td>\n",
       "      <td>146.0<\/td>\n",
       "    <\/tr>\n",
       "    <tr>\n",
       "      <th>1<\/th>\n",
       "      <td>The Blue Lagoon<\/td>\n",
       "      <td>R<\/td>\n",
       "      <td>Adventure<\/td>\n",
       "      <td>1980<\/td>\n",
       "      <td>July 2, 1980 (United States)<\/td>\n",
       "      <td>5.8<\/td>\n",
       "      <td>65000.0<\/td>\n",
       "      <td>Randal Kleiser<\/td>\n",
       "      <td>Henry De Vere Stacpoole<\/td>\n",
       "      <td>Brooke Shields<\/td>\n",
       "      <td>United States<\/td>\n",
       "      <td>4500000.0<\/td>\n",
       "      <td>58853106.0<\/td>\n",
       "      <td>Columbia Pictures<\/td>\n",
       "      <td>104.0<\/td>\n",
       "    <\/tr>\n",
       "    <tr>\n",
       "      <th>2<\/th>\n",
       "      <td>Star Wars: Episode V - The Empire Strikes Back<\/td>\n",
       "      <td>PG<\/td>\n",
       "      <td>Action<\/td>\n",
       "      <td>1980<\/td>\n",
       "      <td>June 20, 1980 (United States)<\/td>\n",
       "      <td>8.7<\/td>\n",
       "      <td>1200000.0<\/td>\n",
       "      <td>Irvin Kershner<\/td>\n",
       "      <td>Leigh Brackett<\/td>\n",
       "      <td>Mark Hamill<\/td>\n",
       "      <td>United States<\/td>\n",
       "      <td>18000000.0<\/td>\n",
       "      <td>538375067.0<\/td>\n",
       "      <td>Lucasfilm<\/td>\n",
       "      <td>124.0<\/td>\n",
       "    <\/tr>\n",
       "    <tr>\n",
       "      <th>3<\/th>\n",
       "      <td>Airplane!<\/td>\n",
       "      <td>PG<\/td>\n",
       "      <td>Comedy<\/td>\n",
       "      <td>1980<\/td>\n",
       "      <td>July 2, 1980 (United States)<\/td>\n",
       "      <td>7.7<\/td>\n",
       "      <td>221000.0<\/td>\n",
       "      <td>Jim Abrahams<\/td>\n",
       "      <td>Jim Abrahams<\/td>\n",
       "      <td>Robert Hays<\/td>\n",
       "      <td>United States<\/td>\n",
       "      <td>3500000.0<\/td>\n",
       "      <td>83453539.0<\/td>\n",
       "      <td>Paramount Pictures<\/td>\n",
       "      <td>88.0<\/td>\n",
       "    <\/tr>\n",
       "    <tr>\n",
       "      <th>4<\/th>\n",
       "      <td>Caddyshack<\/td>\n",
       "      <td>R<\/td>\n",
       "      <td>Comedy<\/td>\n",
       "      <td>1980<\/td>\n",
       "      <td>July 25, 1980 (United States)<\/td>\n",
       "      <td>7.3<\/td>\n",
       "      <td>108000.0<\/td>\n",
       "      <td>Harold Ramis<\/td>\n",
       "      <td>Brian Doyle-Murray<\/td>\n",
       "      <td>Chevy Chase<\/td>\n",
       "      <td>United States<\/td>\n",
       "      <td>6000000.0<\/td>\n",
       "      <td>39846344.0<\/td>\n",
       "      <td>Orion Pictures<\/td>\n",
       "      <td>98.0<\/td>\n",
       "    <\/tr>\n",
       "  <\/tbody>\n",
       "<\/table>\n",
       "<\/div>"
      ]
     },
     "metadata":{
      
     },
     "output_type":"display_data"
    }
   ],
   "metadata":{
    "datalore":{
     "node_id":"uhHycfL983j4PbNqp9rrr1",
     "type":"CODE",
     "hide_input_from_viewers":false,
     "hide_output_from_viewers":false
    }
   }
  },
  {
   "cell_type":"markdown",
   "source":[
    "# Data Cleansing"
   ],
   "attachments":{
    
   },
   "metadata":{
    "datalore":{
     "node_id":"VfngnMRo4Ym2dTXlgOWf4y",
     "type":"MD",
     "hide_input_from_viewers":false,
     "hide_output_from_viewers":false
    }
   }
  },
  {
   "cell_type":"code",
   "source":[
    "# Check Missing Data\n",
    "\n",
    "for col in df.columns:\n",
    "    pct_missing = np.mean(df[col].isnull())\n",
    "    print('{} - {}%'.format(col, pct_missing))"
   ],
   "execution_count":58,
   "outputs":[
    {
     "name":"stdout",
     "text":[
      "name - 0.0%\n",
      "rating - 0.010041731872717789%\n",
      "genre - 0.0%\n",
      "year - 0.0%\n",
      "released - 0.0002608242044861763%\n",
      "score - 0.0003912363067292645%\n",
      "votes - 0.0003912363067292645%\n",
      "director - 0.0%\n",
      "writer - 0.0003912363067292645%\n",
      "star - 0.00013041210224308815%\n",
      "country - 0.0003912363067292645%\n",
      "budget - 0.2831246739697444%\n",
      "gross - 0.02464788732394366%\n",
      "company - 0.002217005738132499%\n",
      "runtime - 0.0005216484089723526%\n"
     ],
     "output_type":"stream"
    }
   ],
   "metadata":{
    "datalore":{
     "node_id":"qRf2kt39KMPmLaZ1YxGdGZ",
     "type":"CODE",
     "hide_input_from_viewers":false,
     "hide_output_from_viewers":false
    }
   }
  },
  {
   "cell_type":"code",
   "source":[
    "# Data types for our colums\n",
    "\n",
    "df.dtypes"
   ],
   "execution_count":59,
   "outputs":[
    {
     "data":{
      "text\/html":[
       "<pre>name         object\n",
       "rating       object\n",
       "genre        object\n",
       "year          int64\n",
       "released     object\n",
       "score       float64\n",
       "votes       float64\n",
       "director     object\n",
       "writer       object\n",
       "star         object\n",
       "country      object\n",
       "budget      float64\n",
       "gross       float64\n",
       "company      object\n",
       "runtime     float64\n",
       "dtype: object<\/pre>"
      ]
     },
     "metadata":{
      
     },
     "output_type":"display_data"
    }
   ],
   "metadata":{
    "datalore":{
     "node_id":"D3zhzuc1BjrLs90EzC1Md4",
     "type":"CODE",
     "hide_input_from_viewers":false,
     "hide_output_from_viewers":false
    }
   }
  },
  {
   "cell_type":"code",
   "source":[
    "df['budget'] = df['budget'].astype(int)\n",
    "#can't change due to NaN Value"
   ],
   "execution_count":60,
   "outputs":[
    {
     "ename":"IntCastingNaNError",
     "evalue":"IntCastingNaNError: Cannot convert non-finite values (NA or inf) to integer",
     "traceback":[
      "\u001b[0;31m---------------------------------------------------------------------------",
      "Traceback (most recent call last)",
      "    at line 1 in <module>",
      "    at line 5815 in astype(self, dtype, copy, errors)",
      "    at line 418 in astype(self, dtype, copy, errors)",
      "    at line 327 in apply(self, f, align_keys, ignore_failures, **kwargs)",
      "    at line 591 in astype(self, dtype, copy, errors)",
      "    at line 1309 in astype_array_safe(values, dtype, copy, errors)",
      "    at line 1257 in astype_array(values, dtype, copy)",
      "    at line 1168 in astype_nansafe(arr, dtype, copy, skipna)",
      "    at line 1213 in astype_float_to_int_nansafe(values, dtype, copy)",
      "IntCastingNaNError: Cannot convert non-finite values (NA or inf) to integer"
     ],
     "output_type":"error"
    }
   ],
   "metadata":{
    "datalore":{
     "node_id":"Uslxq9eD5jxVFUFjhivL7z",
     "type":"CODE",
     "hide_input_from_viewers":false,
     "hide_output_from_viewers":false
    }
   }
  },
  {
   "cell_type":"code",
   "source":[
    "# Lots of null = let's drop it for the easiest way\n",
    "df.isnull"
   ],
   "execution_count":23,
   "outputs":[
    {
     "data":{
      "text\/plain":[
       "<bound method DataFrame.isnull of                                                 name rating      genre  year  \\\n",
       "0                                        The Shining      R      Drama  1980   \n",
       "1                                    The Blue Lagoon      R  Adventure  1980   \n",
       "2     Star Wars: Episode V - The Empire Strikes Back     PG     Action  1980   \n",
       "3                                          Airplane!     PG     Comedy  1980   \n",
       "4                                         Caddyshack      R     Comedy  1980   \n",
       "...                                              ...    ...        ...   ...   \n",
       "7663                                    More to Life    NaN      Drama  2020   \n",
       "7664                                     Dream Round    NaN     Comedy  2020   \n",
       "7665                                   Saving Mbango    NaN      Drama  2020   \n",
       "7666                                    It's Just Us    NaN      Drama  2020   \n",
       "7667                                       Tee em el    NaN     Horror  2020   \n",
       "\n",
       "                              released  score      votes         director  \\\n",
       "0        June 13, 1980 (United States)    8.4   927000.0  Stanley Kubrick   \n",
       "1         July 2, 1980 (United States)    5.8    65000.0   Randal Kleiser   \n",
       "2        June 20, 1980 (United States)    8.7  1200000.0   Irvin Kershner   \n",
       "3         July 2, 1980 (United States)    7.7   221000.0     Jim Abrahams   \n",
       "4        July 25, 1980 (United States)    7.3   108000.0     Harold Ramis   \n",
       "...                                ...    ...        ...              ...   \n",
       "7663  October 23, 2020 (United States)    3.1       18.0    Joseph Ebanks   \n",
       "7664  February 7, 2020 (United States)    4.7       36.0     Dusty Dukatz   \n",
       "7665         April 27, 2020 (Cameroon)    5.7       29.0     Nkanya Nkwai   \n",
       "7666   October 1, 2020 (United States)    NaN        NaN    James Randall   \n",
       "7667   August 19, 2020 (United States)    5.7        7.0     Pereko Mosia   \n",
       "\n",
       "                       writer              star         country      budget  \\\n",
       "0                Stephen King    Jack Nicholson  United Kingdom  19000000.0   \n",
       "1     Henry De Vere Stacpoole    Brooke Shields   United States   4500000.0   \n",
       "2              Leigh Brackett       Mark Hamill   United States  18000000.0   \n",
       "3                Jim Abrahams       Robert Hays   United States   3500000.0   \n",
       "4          Brian Doyle-Murray       Chevy Chase   United States   6000000.0   \n",
       "...                       ...               ...             ...         ...   \n",
       "7663            Joseph Ebanks      Shannon Bond   United States      7000.0   \n",
       "7664              Lisa Huston  Michael Saquella   United States         NaN   \n",
       "7665             Lynno Lovert      Onyama Laura   United States     58750.0   \n",
       "7666            James Randall     Christina Roz   United States     15000.0   \n",
       "7667             Pereko Mosia  Siyabonga Mabaso    South Africa         NaN   \n",
       "\n",
       "            gross                    company  runtime  \n",
       "0      46998772.0               Warner Bros.    146.0  \n",
       "1      58853106.0          Columbia Pictures    104.0  \n",
       "2     538375067.0                  Lucasfilm    124.0  \n",
       "3      83453539.0         Paramount Pictures     88.0  \n",
       "4      39846344.0             Orion Pictures     98.0  \n",
       "...           ...                        ...      ...  \n",
       "7663          NaN                        NaN     90.0  \n",
       "7664          NaN  Cactus Blue Entertainment     90.0  \n",
       "7665          NaN           Embi Productions      NaN  \n",
       "7666          NaN                        NaN    120.0  \n",
       "7667          NaN                PK 65 Films    102.0  \n",
       "\n",
       "[7668 rows x 15 columns]>"
      ]
     },
     "metadata":{
      
     },
     "output_type":"display_data"
    }
   ],
   "metadata":{
    "datalore":{
     "node_id":"RStf1btuYYodyWZrdzZZ8d",
     "type":"CODE",
     "hide_input_from_viewers":false,
     "hide_output_from_viewers":false
    }
   }
  },
  {
   "cell_type":"code",
   "source":[
    "# drop all Null =\n",
    "df = df.dropna()"
   ],
   "execution_count":24,
   "outputs":[
    
   ],
   "metadata":{
    "datalore":{
     "node_id":"WDlrDC3bwSrLtEYJ3IsZwG",
     "type":"CODE",
     "hide_input_from_viewers":false,
     "hide_output_from_viewers":false
    }
   }
  },
  {
   "cell_type":"code",
   "source":[
    "df.isnull"
   ],
   "execution_count":25,
   "outputs":[
    {
     "data":{
      "text\/plain":[
       "<bound method DataFrame.isnull of                                                 name     rating      genre  \\\n",
       "0                                        The Shining          R      Drama   \n",
       "1                                    The Blue Lagoon          R  Adventure   \n",
       "2     Star Wars: Episode V - The Empire Strikes Back         PG     Action   \n",
       "3                                          Airplane!         PG     Comedy   \n",
       "4                                         Caddyshack          R     Comedy   \n",
       "...                                              ...        ...        ...   \n",
       "7648                               Bad Boys for Life          R     Action   \n",
       "7649                              Sonic the Hedgehog         PG     Action   \n",
       "7650                                        Dolittle         PG  Adventure   \n",
       "7651                            The Call of the Wild         PG  Adventure   \n",
       "7652                               The Eight Hundred  Not Rated     Action   \n",
       "\n",
       "      year                           released  score      votes  \\\n",
       "0     1980      June 13, 1980 (United States)    8.4   927000.0   \n",
       "1     1980       July 2, 1980 (United States)    5.8    65000.0   \n",
       "2     1980      June 20, 1980 (United States)    8.7  1200000.0   \n",
       "3     1980       July 2, 1980 (United States)    7.7   221000.0   \n",
       "4     1980      July 25, 1980 (United States)    7.3   108000.0   \n",
       "...    ...                                ...    ...        ...   \n",
       "7648  2020   January 17, 2020 (United States)    6.6   140000.0   \n",
       "7649  2020  February 14, 2020 (United States)    6.5   102000.0   \n",
       "7650  2020   January 17, 2020 (United States)    5.6    53000.0   \n",
       "7651  2020  February 21, 2020 (United States)    6.8    42000.0   \n",
       "7652  2020    August 28, 2020 (United States)    6.8     3700.0   \n",
       "\n",
       "             director                   writer               star  \\\n",
       "0     Stanley Kubrick             Stephen King     Jack Nicholson   \n",
       "1      Randal Kleiser  Henry De Vere Stacpoole     Brooke Shields   \n",
       "2      Irvin Kershner           Leigh Brackett        Mark Hamill   \n",
       "3        Jim Abrahams             Jim Abrahams        Robert Hays   \n",
       "4        Harold Ramis       Brian Doyle-Murray        Chevy Chase   \n",
       "...               ...                      ...                ...   \n",
       "7648     Adil El Arbi              Peter Craig         Will Smith   \n",
       "7649      Jeff Fowler                Pat Casey       Ben Schwartz   \n",
       "7650   Stephen Gaghan           Stephen Gaghan  Robert Downey Jr.   \n",
       "7651    Chris Sanders            Michael Green      Harrison Ford   \n",
       "7652          Hu Guan                  Hu Guan    Zhi-zhong Huang   \n",
       "\n",
       "             country       budget        gross  \\\n",
       "0     United Kingdom   19000000.0   46998772.0   \n",
       "1      United States    4500000.0   58853106.0   \n",
       "2      United States   18000000.0  538375067.0   \n",
       "3      United States    3500000.0   83453539.0   \n",
       "4      United States    6000000.0   39846344.0   \n",
       "...              ...          ...          ...   \n",
       "7648   United States   90000000.0  426505244.0   \n",
       "7649   United States   85000000.0  319715683.0   \n",
       "7650   United States  175000000.0  245487753.0   \n",
       "7651          Canada  135000000.0  111105497.0   \n",
       "7652           China   80000000.0  461421559.0   \n",
       "\n",
       "                                  company  runtime  \n",
       "0                            Warner Bros.    146.0  \n",
       "1                       Columbia Pictures    104.0  \n",
       "2                               Lucasfilm    124.0  \n",
       "3                      Paramount Pictures     88.0  \n",
       "4                          Orion Pictures     98.0  \n",
       "...                                   ...      ...  \n",
       "7648                    Columbia Pictures    124.0  \n",
       "7649                   Paramount Pictures     99.0  \n",
       "7650                   Universal Pictures    101.0  \n",
       "7651                 20th Century Studios    100.0  \n",
       "7652  Beijing Diqi Yinxiang Entertainment    149.0  \n",
       "\n",
       "[5421 rows x 15 columns]>"
      ]
     },
     "metadata":{
      
     },
     "output_type":"display_data"
    }
   ],
   "metadata":{
    "datalore":{
     "node_id":"eqBbscpCBTqT3i75UCkOXb",
     "type":"CODE",
     "hide_input_from_viewers":false,
     "hide_output_from_viewers":false
    }
   }
  },
  {
   "cell_type":"code",
   "source":[
    "# Change float to int\n",
    "df = df.astype({'budget' : int, 'gross' : int})"
   ],
   "execution_count":26,
   "outputs":[
    
   ],
   "metadata":{
    "datalore":{
     "node_id":"IDwfNUwYGSXTNuhRIatKw6",
     "type":"CODE",
     "hide_input_from_viewers":false,
     "hide_output_from_viewers":false
    }
   }
  },
  {
   "cell_type":"code",
   "source":[
    "# No float now\n",
    "df"
   ],
   "execution_count":33,
   "outputs":[
    {
     "data":{
      "text\/html":[
       "<div>\n",
       "<style scoped>\n",
       "    .dataframe tbody tr th:only-of-type {\n",
       "        vertical-align: middle;\n",
       "    }\n",
       "\n",
       "    .dataframe tbody tr th {\n",
       "        vertical-align: top;\n",
       "    }\n",
       "\n",
       "    .dataframe thead th {\n",
       "        text-align: right;\n",
       "    }\n",
       "<\/style>\n",
       "<table border=\"1\" class=\"dataframe\">\n",
       "  <thead>\n",
       "    <tr style=\"text-align: right;\">\n",
       "      <th><\/th>\n",
       "      <th>name<\/th>\n",
       "      <th>rating<\/th>\n",
       "      <th>genre<\/th>\n",
       "      <th>year<\/th>\n",
       "      <th>released<\/th>\n",
       "      <th>score<\/th>\n",
       "      <th>votes<\/th>\n",
       "      <th>director<\/th>\n",
       "      <th>writer<\/th>\n",
       "      <th>star<\/th>\n",
       "      <th>country<\/th>\n",
       "      <th>budget<\/th>\n",
       "      <th>gross<\/th>\n",
       "      <th>company<\/th>\n",
       "      <th>runtime<\/th>\n",
       "    <\/tr>\n",
       "  <\/thead>\n",
       "  <tbody>\n",
       "    <tr>\n",
       "      <th>0<\/th>\n",
       "      <td>The Shining<\/td>\n",
       "      <td>R<\/td>\n",
       "      <td>Drama<\/td>\n",
       "      <td>1980<\/td>\n",
       "      <td>June 13, 1980 (United States)<\/td>\n",
       "      <td>8.4<\/td>\n",
       "      <td>927000.0<\/td>\n",
       "      <td>Stanley Kubrick<\/td>\n",
       "      <td>Stephen King<\/td>\n",
       "      <td>Jack Nicholson<\/td>\n",
       "      <td>United Kingdom<\/td>\n",
       "      <td>19000000<\/td>\n",
       "      <td>46998772<\/td>\n",
       "      <td>Warner Bros.<\/td>\n",
       "      <td>146.0<\/td>\n",
       "    <\/tr>\n",
       "    <tr>\n",
       "      <th>1<\/th>\n",
       "      <td>The Blue Lagoon<\/td>\n",
       "      <td>R<\/td>\n",
       "      <td>Adventure<\/td>\n",
       "      <td>1980<\/td>\n",
       "      <td>July 2, 1980 (United States)<\/td>\n",
       "      <td>5.8<\/td>\n",
       "      <td>65000.0<\/td>\n",
       "      <td>Randal Kleiser<\/td>\n",
       "      <td>Henry De Vere Stacpoole<\/td>\n",
       "      <td>Brooke Shields<\/td>\n",
       "      <td>United States<\/td>\n",
       "      <td>4500000<\/td>\n",
       "      <td>58853106<\/td>\n",
       "      <td>Columbia Pictures<\/td>\n",
       "      <td>104.0<\/td>\n",
       "    <\/tr>\n",
       "    <tr>\n",
       "      <th>2<\/th>\n",
       "      <td>Star Wars: Episode V - The Empire Strikes Back<\/td>\n",
       "      <td>PG<\/td>\n",
       "      <td>Action<\/td>\n",
       "      <td>1980<\/td>\n",
       "      <td>June 20, 1980 (United States)<\/td>\n",
       "      <td>8.7<\/td>\n",
       "      <td>1200000.0<\/td>\n",
       "      <td>Irvin Kershner<\/td>\n",
       "      <td>Leigh Brackett<\/td>\n",
       "      <td>Mark Hamill<\/td>\n",
       "      <td>United States<\/td>\n",
       "      <td>18000000<\/td>\n",
       "      <td>538375067<\/td>\n",
       "      <td>Lucasfilm<\/td>\n",
       "      <td>124.0<\/td>\n",
       "    <\/tr>\n",
       "    <tr>\n",
       "      <th>3<\/th>\n",
       "      <td>Airplane!<\/td>\n",
       "      <td>PG<\/td>\n",
       "      <td>Comedy<\/td>\n",
       "      <td>1980<\/td>\n",
       "      <td>July 2, 1980 (United States)<\/td>\n",
       "      <td>7.7<\/td>\n",
       "      <td>221000.0<\/td>\n",
       "      <td>Jim Abrahams<\/td>\n",
       "      <td>Jim Abrahams<\/td>\n",
       "      <td>Robert Hays<\/td>\n",
       "      <td>United States<\/td>\n",
       "      <td>3500000<\/td>\n",
       "      <td>83453539<\/td>\n",
       "      <td>Paramount Pictures<\/td>\n",
       "      <td>88.0<\/td>\n",
       "    <\/tr>\n",
       "    <tr>\n",
       "      <th>4<\/th>\n",
       "      <td>Caddyshack<\/td>\n",
       "      <td>R<\/td>\n",
       "      <td>Comedy<\/td>\n",
       "      <td>1980<\/td>\n",
       "      <td>July 25, 1980 (United States)<\/td>\n",
       "      <td>7.3<\/td>\n",
       "      <td>108000.0<\/td>\n",
       "      <td>Harold Ramis<\/td>\n",
       "      <td>Brian Doyle-Murray<\/td>\n",
       "      <td>Chevy Chase<\/td>\n",
       "      <td>United States<\/td>\n",
       "      <td>6000000<\/td>\n",
       "      <td>39846344<\/td>\n",
       "      <td>Orion Pictures<\/td>\n",
       "      <td>98.0<\/td>\n",
       "    <\/tr>\n",
       "    <tr>\n",
       "      <th>...<\/th>\n",
       "      <td>...<\/td>\n",
       "      <td>...<\/td>\n",
       "      <td>...<\/td>\n",
       "      <td>...<\/td>\n",
       "      <td>...<\/td>\n",
       "      <td>...<\/td>\n",
       "      <td>...<\/td>\n",
       "      <td>...<\/td>\n",
       "      <td>...<\/td>\n",
       "      <td>...<\/td>\n",
       "      <td>...<\/td>\n",
       "      <td>...<\/td>\n",
       "      <td>...<\/td>\n",
       "      <td>...<\/td>\n",
       "      <td>...<\/td>\n",
       "    <\/tr>\n",
       "    <tr>\n",
       "      <th>7648<\/th>\n",
       "      <td>Bad Boys for Life<\/td>\n",
       "      <td>R<\/td>\n",
       "      <td>Action<\/td>\n",
       "      <td>2020<\/td>\n",
       "      <td>January 17, 2020 (United States)<\/td>\n",
       "      <td>6.6<\/td>\n",
       "      <td>140000.0<\/td>\n",
       "      <td>Adil El Arbi<\/td>\n",
       "      <td>Peter Craig<\/td>\n",
       "      <td>Will Smith<\/td>\n",
       "      <td>United States<\/td>\n",
       "      <td>90000000<\/td>\n",
       "      <td>426505244<\/td>\n",
       "      <td>Columbia Pictures<\/td>\n",
       "      <td>124.0<\/td>\n",
       "    <\/tr>\n",
       "    <tr>\n",
       "      <th>7649<\/th>\n",
       "      <td>Sonic the Hedgehog<\/td>\n",
       "      <td>PG<\/td>\n",
       "      <td>Action<\/td>\n",
       "      <td>2020<\/td>\n",
       "      <td>February 14, 2020 (United States)<\/td>\n",
       "      <td>6.5<\/td>\n",
       "      <td>102000.0<\/td>\n",
       "      <td>Jeff Fowler<\/td>\n",
       "      <td>Pat Casey<\/td>\n",
       "      <td>Ben Schwartz<\/td>\n",
       "      <td>United States<\/td>\n",
       "      <td>85000000<\/td>\n",
       "      <td>319715683<\/td>\n",
       "      <td>Paramount Pictures<\/td>\n",
       "      <td>99.0<\/td>\n",
       "    <\/tr>\n",
       "    <tr>\n",
       "      <th>7650<\/th>\n",
       "      <td>Dolittle<\/td>\n",
       "      <td>PG<\/td>\n",
       "      <td>Adventure<\/td>\n",
       "      <td>2020<\/td>\n",
       "      <td>January 17, 2020 (United States)<\/td>\n",
       "      <td>5.6<\/td>\n",
       "      <td>53000.0<\/td>\n",
       "      <td>Stephen Gaghan<\/td>\n",
       "      <td>Stephen Gaghan<\/td>\n",
       "      <td>Robert Downey Jr.<\/td>\n",
       "      <td>United States<\/td>\n",
       "      <td>175000000<\/td>\n",
       "      <td>245487753<\/td>\n",
       "      <td>Universal Pictures<\/td>\n",
       "      <td>101.0<\/td>\n",
       "    <\/tr>\n",
       "    <tr>\n",
       "      <th>7651<\/th>\n",
       "      <td>The Call of the Wild<\/td>\n",
       "      <td>PG<\/td>\n",
       "      <td>Adventure<\/td>\n",
       "      <td>2020<\/td>\n",
       "      <td>February 21, 2020 (United States)<\/td>\n",
       "      <td>6.8<\/td>\n",
       "      <td>42000.0<\/td>\n",
       "      <td>Chris Sanders<\/td>\n",
       "      <td>Michael Green<\/td>\n",
       "      <td>Harrison Ford<\/td>\n",
       "      <td>Canada<\/td>\n",
       "      <td>135000000<\/td>\n",
       "      <td>111105497<\/td>\n",
       "      <td>20th Century Studios<\/td>\n",
       "      <td>100.0<\/td>\n",
       "    <\/tr>\n",
       "    <tr>\n",
       "      <th>7652<\/th>\n",
       "      <td>The Eight Hundred<\/td>\n",
       "      <td>Not Rated<\/td>\n",
       "      <td>Action<\/td>\n",
       "      <td>2020<\/td>\n",
       "      <td>August 28, 2020 (United States)<\/td>\n",
       "      <td>6.8<\/td>\n",
       "      <td>3700.0<\/td>\n",
       "      <td>Hu Guan<\/td>\n",
       "      <td>Hu Guan<\/td>\n",
       "      <td>Zhi-zhong Huang<\/td>\n",
       "      <td>China<\/td>\n",
       "      <td>80000000<\/td>\n",
       "      <td>461421559<\/td>\n",
       "      <td>Beijing Diqi Yinxiang Entertainment<\/td>\n",
       "      <td>149.0<\/td>\n",
       "    <\/tr>\n",
       "  <\/tbody>\n",
       "<\/table>\n",
       "<p>5421 rows × 15 columns<\/p>\n",
       "<\/div>"
      ]
     },
     "metadata":{
      
     },
     "output_type":"display_data"
    }
   ],
   "metadata":{
    "datalore":{
     "node_id":"n5Nl1zYr0YYRrm3VRna34S",
     "type":"CODE",
     "hide_input_from_viewers":false,
     "hide_output_from_viewers":false
    }
   }
  },
  {
   "cell_type":"code",
   "source":[
    "# correct what I do worng [don't forget to return to df]\n",
    "df = df.drop(columns=[\"yearreleased\"])"
   ],
   "execution_count":41,
   "outputs":[
    
   ],
   "metadata":{
    "datalore":{
     "node_id":"PrcmXVPyx5lV9akwXReKOL",
     "type":"CODE",
     "hide_input_from_viewers":false,
     "hide_output_from_viewers":false
    }
   }
  },
  {
   "cell_type":"code",
   "source":[
    "# columns 'year' has doesn't match the year in 'release', it needs to fix\n",
    "# extract year #pat = pattern \n",
    "df['yearcorrect'] = df['released'].str.extract(pat = '([0-9]{4})').astype(int)"
   ],
   "execution_count":39,
   "outputs":[
    
   ],
   "metadata":{
    "datalore":{
     "node_id":"HwLRLuSPMtKYfqBRp0Z2Uh",
     "type":"CODE",
     "hide_input_from_viewers":false,
     "hide_output_from_viewers":false
    }
   }
  },
  {
   "cell_type":"code",
   "source":[
    "df"
   ],
   "execution_count":42,
   "outputs":[
    {
     "data":{
      "text\/html":[
       "<div>\n",
       "<style scoped>\n",
       "    .dataframe tbody tr th:only-of-type {\n",
       "        vertical-align: middle;\n",
       "    }\n",
       "\n",
       "    .dataframe tbody tr th {\n",
       "        vertical-align: top;\n",
       "    }\n",
       "\n",
       "    .dataframe thead th {\n",
       "        text-align: right;\n",
       "    }\n",
       "<\/style>\n",
       "<table border=\"1\" class=\"dataframe\">\n",
       "  <thead>\n",
       "    <tr style=\"text-align: right;\">\n",
       "      <th><\/th>\n",
       "      <th>name<\/th>\n",
       "      <th>rating<\/th>\n",
       "      <th>genre<\/th>\n",
       "      <th>year<\/th>\n",
       "      <th>released<\/th>\n",
       "      <th>score<\/th>\n",
       "      <th>votes<\/th>\n",
       "      <th>director<\/th>\n",
       "      <th>writer<\/th>\n",
       "      <th>star<\/th>\n",
       "      <th>country<\/th>\n",
       "      <th>budget<\/th>\n",
       "      <th>gross<\/th>\n",
       "      <th>company<\/th>\n",
       "      <th>runtime<\/th>\n",
       "      <th>yearcorrect<\/th>\n",
       "    <\/tr>\n",
       "  <\/thead>\n",
       "  <tbody>\n",
       "    <tr>\n",
       "      <th>0<\/th>\n",
       "      <td>The Shining<\/td>\n",
       "      <td>R<\/td>\n",
       "      <td>Drama<\/td>\n",
       "      <td>1980<\/td>\n",
       "      <td>June 13, 1980 (United States)<\/td>\n",
       "      <td>8.4<\/td>\n",
       "      <td>927000.0<\/td>\n",
       "      <td>Stanley Kubrick<\/td>\n",
       "      <td>Stephen King<\/td>\n",
       "      <td>Jack Nicholson<\/td>\n",
       "      <td>United Kingdom<\/td>\n",
       "      <td>19000000<\/td>\n",
       "      <td>46998772<\/td>\n",
       "      <td>Warner Bros.<\/td>\n",
       "      <td>146.0<\/td>\n",
       "      <td>1980<\/td>\n",
       "    <\/tr>\n",
       "    <tr>\n",
       "      <th>1<\/th>\n",
       "      <td>The Blue Lagoon<\/td>\n",
       "      <td>R<\/td>\n",
       "      <td>Adventure<\/td>\n",
       "      <td>1980<\/td>\n",
       "      <td>July 2, 1980 (United States)<\/td>\n",
       "      <td>5.8<\/td>\n",
       "      <td>65000.0<\/td>\n",
       "      <td>Randal Kleiser<\/td>\n",
       "      <td>Henry De Vere Stacpoole<\/td>\n",
       "      <td>Brooke Shields<\/td>\n",
       "      <td>United States<\/td>\n",
       "      <td>4500000<\/td>\n",
       "      <td>58853106<\/td>\n",
       "      <td>Columbia Pictures<\/td>\n",
       "      <td>104.0<\/td>\n",
       "      <td>1980<\/td>\n",
       "    <\/tr>\n",
       "    <tr>\n",
       "      <th>2<\/th>\n",
       "      <td>Star Wars: Episode V - The Empire Strikes Back<\/td>\n",
       "      <td>PG<\/td>\n",
       "      <td>Action<\/td>\n",
       "      <td>1980<\/td>\n",
       "      <td>June 20, 1980 (United States)<\/td>\n",
       "      <td>8.7<\/td>\n",
       "      <td>1200000.0<\/td>\n",
       "      <td>Irvin Kershner<\/td>\n",
       "      <td>Leigh Brackett<\/td>\n",
       "      <td>Mark Hamill<\/td>\n",
       "      <td>United States<\/td>\n",
       "      <td>18000000<\/td>\n",
       "      <td>538375067<\/td>\n",
       "      <td>Lucasfilm<\/td>\n",
       "      <td>124.0<\/td>\n",
       "      <td>1980<\/td>\n",
       "    <\/tr>\n",
       "    <tr>\n",
       "      <th>3<\/th>\n",
       "      <td>Airplane!<\/td>\n",
       "      <td>PG<\/td>\n",
       "      <td>Comedy<\/td>\n",
       "      <td>1980<\/td>\n",
       "      <td>July 2, 1980 (United States)<\/td>\n",
       "      <td>7.7<\/td>\n",
       "      <td>221000.0<\/td>\n",
       "      <td>Jim Abrahams<\/td>\n",
       "      <td>Jim Abrahams<\/td>\n",
       "      <td>Robert Hays<\/td>\n",
       "      <td>United States<\/td>\n",
       "      <td>3500000<\/td>\n",
       "      <td>83453539<\/td>\n",
       "      <td>Paramount Pictures<\/td>\n",
       "      <td>88.0<\/td>\n",
       "      <td>1980<\/td>\n",
       "    <\/tr>\n",
       "    <tr>\n",
       "      <th>4<\/th>\n",
       "      <td>Caddyshack<\/td>\n",
       "      <td>R<\/td>\n",
       "      <td>Comedy<\/td>\n",
       "      <td>1980<\/td>\n",
       "      <td>July 25, 1980 (United States)<\/td>\n",
       "      <td>7.3<\/td>\n",
       "      <td>108000.0<\/td>\n",
       "      <td>Harold Ramis<\/td>\n",
       "      <td>Brian Doyle-Murray<\/td>\n",
       "      <td>Chevy Chase<\/td>\n",
       "      <td>United States<\/td>\n",
       "      <td>6000000<\/td>\n",
       "      <td>39846344<\/td>\n",
       "      <td>Orion Pictures<\/td>\n",
       "      <td>98.0<\/td>\n",
       "      <td>1980<\/td>\n",
       "    <\/tr>\n",
       "    <tr>\n",
       "      <th>...<\/th>\n",
       "      <td>...<\/td>\n",
       "      <td>...<\/td>\n",
       "      <td>...<\/td>\n",
       "      <td>...<\/td>\n",
       "      <td>...<\/td>\n",
       "      <td>...<\/td>\n",
       "      <td>...<\/td>\n",
       "      <td>...<\/td>\n",
       "      <td>...<\/td>\n",
       "      <td>...<\/td>\n",
       "      <td>...<\/td>\n",
       "      <td>...<\/td>\n",
       "      <td>...<\/td>\n",
       "      <td>...<\/td>\n",
       "      <td>...<\/td>\n",
       "      <td>...<\/td>\n",
       "    <\/tr>\n",
       "    <tr>\n",
       "      <th>7648<\/th>\n",
       "      <td>Bad Boys for Life<\/td>\n",
       "      <td>R<\/td>\n",
       "      <td>Action<\/td>\n",
       "      <td>2020<\/td>\n",
       "      <td>January 17, 2020 (United States)<\/td>\n",
       "      <td>6.6<\/td>\n",
       "      <td>140000.0<\/td>\n",
       "      <td>Adil El Arbi<\/td>\n",
       "      <td>Peter Craig<\/td>\n",
       "      <td>Will Smith<\/td>\n",
       "      <td>United States<\/td>\n",
       "      <td>90000000<\/td>\n",
       "      <td>426505244<\/td>\n",
       "      <td>Columbia Pictures<\/td>\n",
       "      <td>124.0<\/td>\n",
       "      <td>2020<\/td>\n",
       "    <\/tr>\n",
       "    <tr>\n",
       "      <th>7649<\/th>\n",
       "      <td>Sonic the Hedgehog<\/td>\n",
       "      <td>PG<\/td>\n",
       "      <td>Action<\/td>\n",
       "      <td>2020<\/td>\n",
       "      <td>February 14, 2020 (United States)<\/td>\n",
       "      <td>6.5<\/td>\n",
       "      <td>102000.0<\/td>\n",
       "      <td>Jeff Fowler<\/td>\n",
       "      <td>Pat Casey<\/td>\n",
       "      <td>Ben Schwartz<\/td>\n",
       "      <td>United States<\/td>\n",
       "      <td>85000000<\/td>\n",
       "      <td>319715683<\/td>\n",
       "      <td>Paramount Pictures<\/td>\n",
       "      <td>99.0<\/td>\n",
       "      <td>2020<\/td>\n",
       "    <\/tr>\n",
       "    <tr>\n",
       "      <th>7650<\/th>\n",
       "      <td>Dolittle<\/td>\n",
       "      <td>PG<\/td>\n",
       "      <td>Adventure<\/td>\n",
       "      <td>2020<\/td>\n",
       "      <td>January 17, 2020 (United States)<\/td>\n",
       "      <td>5.6<\/td>\n",
       "      <td>53000.0<\/td>\n",
       "      <td>Stephen Gaghan<\/td>\n",
       "      <td>Stephen Gaghan<\/td>\n",
       "      <td>Robert Downey Jr.<\/td>\n",
       "      <td>United States<\/td>\n",
       "      <td>175000000<\/td>\n",
       "      <td>245487753<\/td>\n",
       "      <td>Universal Pictures<\/td>\n",
       "      <td>101.0<\/td>\n",
       "      <td>2020<\/td>\n",
       "    <\/tr>\n",
       "    <tr>\n",
       "      <th>7651<\/th>\n",
       "      <td>The Call of the Wild<\/td>\n",
       "      <td>PG<\/td>\n",
       "      <td>Adventure<\/td>\n",
       "      <td>2020<\/td>\n",
       "      <td>February 21, 2020 (United States)<\/td>\n",
       "      <td>6.8<\/td>\n",
       "      <td>42000.0<\/td>\n",
       "      <td>Chris Sanders<\/td>\n",
       "      <td>Michael Green<\/td>\n",
       "      <td>Harrison Ford<\/td>\n",
       "      <td>Canada<\/td>\n",
       "      <td>135000000<\/td>\n",
       "      <td>111105497<\/td>\n",
       "      <td>20th Century Studios<\/td>\n",
       "      <td>100.0<\/td>\n",
       "      <td>2020<\/td>\n",
       "    <\/tr>\n",
       "    <tr>\n",
       "      <th>7652<\/th>\n",
       "      <td>The Eight Hundred<\/td>\n",
       "      <td>Not Rated<\/td>\n",
       "      <td>Action<\/td>\n",
       "      <td>2020<\/td>\n",
       "      <td>August 28, 2020 (United States)<\/td>\n",
       "      <td>6.8<\/td>\n",
       "      <td>3700.0<\/td>\n",
       "      <td>Hu Guan<\/td>\n",
       "      <td>Hu Guan<\/td>\n",
       "      <td>Zhi-zhong Huang<\/td>\n",
       "      <td>China<\/td>\n",
       "      <td>80000000<\/td>\n",
       "      <td>461421559<\/td>\n",
       "      <td>Beijing Diqi Yinxiang Entertainment<\/td>\n",
       "      <td>149.0<\/td>\n",
       "      <td>2020<\/td>\n",
       "    <\/tr>\n",
       "  <\/tbody>\n",
       "<\/table>\n",
       "<p>5421 rows × 16 columns<\/p>\n",
       "<\/div>"
      ]
     },
     "metadata":{
      
     },
     "output_type":"display_data"
    }
   ],
   "metadata":{
    "datalore":{
     "node_id":"jOqwEnRiehFXVxfcboMuV5",
     "type":"CODE",
     "hide_input_from_viewers":false,
     "hide_output_from_viewers":false
    }
   }
  },
  {
   "cell_type":"code",
   "source":[
    "# order by gross\n",
    "df.sort_values(by=['gross'], inplace=False, ascending=False)"
   ],
   "execution_count":44,
   "outputs":[
    {
     "data":{
      "text\/html":[
       "<div>\n",
       "<style scoped>\n",
       "    .dataframe tbody tr th:only-of-type {\n",
       "        vertical-align: middle;\n",
       "    }\n",
       "\n",
       "    .dataframe tbody tr th {\n",
       "        vertical-align: top;\n",
       "    }\n",
       "\n",
       "    .dataframe thead th {\n",
       "        text-align: right;\n",
       "    }\n",
       "<\/style>\n",
       "<table border=\"1\" class=\"dataframe\">\n",
       "  <thead>\n",
       "    <tr style=\"text-align: right;\">\n",
       "      <th><\/th>\n",
       "      <th>name<\/th>\n",
       "      <th>rating<\/th>\n",
       "      <th>genre<\/th>\n",
       "      <th>year<\/th>\n",
       "      <th>released<\/th>\n",
       "      <th>score<\/th>\n",
       "      <th>votes<\/th>\n",
       "      <th>director<\/th>\n",
       "      <th>writer<\/th>\n",
       "      <th>star<\/th>\n",
       "      <th>country<\/th>\n",
       "      <th>budget<\/th>\n",
       "      <th>gross<\/th>\n",
       "      <th>company<\/th>\n",
       "      <th>runtime<\/th>\n",
       "      <th>yearcorrect<\/th>\n",
       "    <\/tr>\n",
       "  <\/thead>\n",
       "  <tbody>\n",
       "    <tr>\n",
       "      <th>5445<\/th>\n",
       "      <td>Avatar<\/td>\n",
       "      <td>PG-13<\/td>\n",
       "      <td>Action<\/td>\n",
       "      <td>2009<\/td>\n",
       "      <td>December 18, 2009 (United States)<\/td>\n",
       "      <td>7.8<\/td>\n",
       "      <td>1100000.0<\/td>\n",
       "      <td>James Cameron<\/td>\n",
       "      <td>James Cameron<\/td>\n",
       "      <td>Sam Worthington<\/td>\n",
       "      <td>United States<\/td>\n",
       "      <td>237000000<\/td>\n",
       "      <td>2847246203<\/td>\n",
       "      <td>Twentieth Century Fox<\/td>\n",
       "      <td>162.0<\/td>\n",
       "      <td>2009<\/td>\n",
       "    <\/tr>\n",
       "    <tr>\n",
       "      <th>7445<\/th>\n",
       "      <td>Avengers: Endgame<\/td>\n",
       "      <td>PG-13<\/td>\n",
       "      <td>Action<\/td>\n",
       "      <td>2019<\/td>\n",
       "      <td>April 26, 2019 (United States)<\/td>\n",
       "      <td>8.4<\/td>\n",
       "      <td>903000.0<\/td>\n",
       "      <td>Anthony Russo<\/td>\n",
       "      <td>Christopher Markus<\/td>\n",
       "      <td>Robert Downey Jr.<\/td>\n",
       "      <td>United States<\/td>\n",
       "      <td>356000000<\/td>\n",
       "      <td>2797501328<\/td>\n",
       "      <td>Marvel Studios<\/td>\n",
       "      <td>181.0<\/td>\n",
       "      <td>2019<\/td>\n",
       "    <\/tr>\n",
       "    <tr>\n",
       "      <th>3045<\/th>\n",
       "      <td>Titanic<\/td>\n",
       "      <td>PG-13<\/td>\n",
       "      <td>Drama<\/td>\n",
       "      <td>1997<\/td>\n",
       "      <td>December 19, 1997 (United States)<\/td>\n",
       "      <td>7.8<\/td>\n",
       "      <td>1100000.0<\/td>\n",
       "      <td>James Cameron<\/td>\n",
       "      <td>James Cameron<\/td>\n",
       "      <td>Leonardo DiCaprio<\/td>\n",
       "      <td>United States<\/td>\n",
       "      <td>200000000<\/td>\n",
       "      <td>2201647264<\/td>\n",
       "      <td>Twentieth Century Fox<\/td>\n",
       "      <td>194.0<\/td>\n",
       "      <td>1997<\/td>\n",
       "    <\/tr>\n",
       "    <tr>\n",
       "      <th>6663<\/th>\n",
       "      <td>Star Wars: Episode VII - The Force Awakens<\/td>\n",
       "      <td>PG-13<\/td>\n",
       "      <td>Action<\/td>\n",
       "      <td>2015<\/td>\n",
       "      <td>December 18, 2015 (United States)<\/td>\n",
       "      <td>7.8<\/td>\n",
       "      <td>876000.0<\/td>\n",
       "      <td>J.J. Abrams<\/td>\n",
       "      <td>Lawrence Kasdan<\/td>\n",
       "      <td>Daisy Ridley<\/td>\n",
       "      <td>United States<\/td>\n",
       "      <td>245000000<\/td>\n",
       "      <td>2069521700<\/td>\n",
       "      <td>Lucasfilm<\/td>\n",
       "      <td>138.0<\/td>\n",
       "      <td>2015<\/td>\n",
       "    <\/tr>\n",
       "    <tr>\n",
       "      <th>7244<\/th>\n",
       "      <td>Avengers: Infinity War<\/td>\n",
       "      <td>PG-13<\/td>\n",
       "      <td>Action<\/td>\n",
       "      <td>2018<\/td>\n",
       "      <td>April 27, 2018 (United States)<\/td>\n",
       "      <td>8.4<\/td>\n",
       "      <td>897000.0<\/td>\n",
       "      <td>Anthony Russo<\/td>\n",
       "      <td>Christopher Markus<\/td>\n",
       "      <td>Robert Downey Jr.<\/td>\n",
       "      <td>United States<\/td>\n",
       "      <td>321000000<\/td>\n",
       "      <td>2048359754<\/td>\n",
       "      <td>Marvel Studios<\/td>\n",
       "      <td>149.0<\/td>\n",
       "      <td>2018<\/td>\n",
       "    <\/tr>\n",
       "    <tr>\n",
       "      <th>...<\/th>\n",
       "      <td>...<\/td>\n",
       "      <td>...<\/td>\n",
       "      <td>...<\/td>\n",
       "      <td>...<\/td>\n",
       "      <td>...<\/td>\n",
       "      <td>...<\/td>\n",
       "      <td>...<\/td>\n",
       "      <td>...<\/td>\n",
       "      <td>...<\/td>\n",
       "      <td>...<\/td>\n",
       "      <td>...<\/td>\n",
       "      <td>...<\/td>\n",
       "      <td>...<\/td>\n",
       "      <td>...<\/td>\n",
       "      <td>...<\/td>\n",
       "      <td>...<\/td>\n",
       "    <\/tr>\n",
       "    <tr>\n",
       "      <th>5640<\/th>\n",
       "      <td>Tanner Hall<\/td>\n",
       "      <td>R<\/td>\n",
       "      <td>Drama<\/td>\n",
       "      <td>2009<\/td>\n",
       "      <td>January 15, 2015 (Sweden)<\/td>\n",
       "      <td>5.8<\/td>\n",
       "      <td>3500.0<\/td>\n",
       "      <td>Francesca Gregorini<\/td>\n",
       "      <td>Tatiana von Fürstenberg<\/td>\n",
       "      <td>Rooney Mara<\/td>\n",
       "      <td>United States<\/td>\n",
       "      <td>3000000<\/td>\n",
       "      <td>5073<\/td>\n",
       "      <td>Two Prong Lesson<\/td>\n",
       "      <td>96.0<\/td>\n",
       "      <td>2015<\/td>\n",
       "    <\/tr>\n",
       "    <tr>\n",
       "      <th>2434<\/th>\n",
       "      <td>Philadelphia Experiment II<\/td>\n",
       "      <td>PG-13<\/td>\n",
       "      <td>Action<\/td>\n",
       "      <td>1993<\/td>\n",
       "      <td>June 4, 1994 (South Korea)<\/td>\n",
       "      <td>4.5<\/td>\n",
       "      <td>1900.0<\/td>\n",
       "      <td>Stephen Cornwell<\/td>\n",
       "      <td>Wallace C. Bennett<\/td>\n",
       "      <td>Brad Johnson<\/td>\n",
       "      <td>United States<\/td>\n",
       "      <td>5000000<\/td>\n",
       "      <td>2970<\/td>\n",
       "      <td>Trimark Pictures<\/td>\n",
       "      <td>97.0<\/td>\n",
       "      <td>1994<\/td>\n",
       "    <\/tr>\n",
       "    <tr>\n",
       "      <th>3681<\/th>\n",
       "      <td>Ginger Snaps<\/td>\n",
       "      <td>Not Rated<\/td>\n",
       "      <td>Drama<\/td>\n",
       "      <td>2000<\/td>\n",
       "      <td>May 11, 2001 (Canada)<\/td>\n",
       "      <td>6.8<\/td>\n",
       "      <td>43000.0<\/td>\n",
       "      <td>John Fawcett<\/td>\n",
       "      <td>Karen Walton<\/td>\n",
       "      <td>Emily Perkins<\/td>\n",
       "      <td>Canada<\/td>\n",
       "      <td>5000000<\/td>\n",
       "      <td>2554<\/td>\n",
       "      <td>Copperheart Entertainment<\/td>\n",
       "      <td>108.0<\/td>\n",
       "      <td>2001<\/td>\n",
       "    <\/tr>\n",
       "    <tr>\n",
       "      <th>272<\/th>\n",
       "      <td>Parasite<\/td>\n",
       "      <td>R<\/td>\n",
       "      <td>Horror<\/td>\n",
       "      <td>1982<\/td>\n",
       "      <td>March 12, 1982 (United States)<\/td>\n",
       "      <td>3.9<\/td>\n",
       "      <td>2300.0<\/td>\n",
       "      <td>Charles Band<\/td>\n",
       "      <td>Alan J. Adler<\/td>\n",
       "      <td>Robert Glaudini<\/td>\n",
       "      <td>United States<\/td>\n",
       "      <td>800000<\/td>\n",
       "      <td>2270<\/td>\n",
       "      <td>Embassy Pictures<\/td>\n",
       "      <td>85.0<\/td>\n",
       "      <td>1982<\/td>\n",
       "    <\/tr>\n",
       "    <tr>\n",
       "      <th>3203<\/th>\n",
       "      <td>Trojan War<\/td>\n",
       "      <td>PG-13<\/td>\n",
       "      <td>Comedy<\/td>\n",
       "      <td>1997<\/td>\n",
       "      <td>October 1, 1997 (Brazil)<\/td>\n",
       "      <td>5.7<\/td>\n",
       "      <td>5800.0<\/td>\n",
       "      <td>George Huang<\/td>\n",
       "      <td>Andy Burg<\/td>\n",
       "      <td>Will Friedle<\/td>\n",
       "      <td>United States<\/td>\n",
       "      <td>15000000<\/td>\n",
       "      <td>309<\/td>\n",
       "      <td>Daybreak<\/td>\n",
       "      <td>85.0<\/td>\n",
       "      <td>1997<\/td>\n",
       "    <\/tr>\n",
       "  <\/tbody>\n",
       "<\/table>\n",
       "<p>5421 rows × 16 columns<\/p>\n",
       "<\/div>"
      ]
     },
     "metadata":{
      
     },
     "output_type":"display_data"
    }
   ],
   "metadata":{
    "datalore":{
     "node_id":"yysThTTa1NQRbJqkkqoxwn",
     "type":"CODE",
     "hide_input_from_viewers":false,
     "hide_output_from_viewers":false
    }
   }
  },
  {
   "cell_type":"code",
   "source":[
    "# look all data without...\n",
    "pd.set_option('display.max_rows', None)"
   ],
   "execution_count":45,
   "outputs":[
    
   ],
   "metadata":{
    "datalore":{
     "node_id":"kBSRcKthzrRCssdqATDr8K",
     "type":"CODE",
     "hide_input_from_viewers":false,
     "hide_output_from_viewers":false
    }
   }
  },
  {
   "cell_type":"code",
   "source":[
    "df = df.sort_values(by=['gross'], inplace=False, ascending=False)"
   ],
   "execution_count":135,
   "outputs":[
    
   ],
   "metadata":{
    "datalore":{
     "node_id":"dQ2f5TJfsLQ3verlaRbpXU",
     "type":"CODE",
     "hide_input_from_viewers":false,
     "hide_output_from_viewers":false
    }
   }
  },
  {
   "cell_type":"code",
   "source":[
    "#Drop any duplicates (if any)\n",
    "df.drop_duplicates()\n",
    "#5421 rows x 17 columns to 5421 rows x 17 columns : it seems there is no dup\n",
    "df.head()"
   ],
   "execution_count":124,
   "outputs":[
    {
     "data":{
      "text\/html":[
       "<div>\n",
       "<style scoped>\n",
       "    .dataframe tbody tr th:only-of-type {\n",
       "        vertical-align: middle;\n",
       "    }\n",
       "\n",
       "    .dataframe tbody tr th {\n",
       "        vertical-align: top;\n",
       "    }\n",
       "\n",
       "    .dataframe thead th {\n",
       "        text-align: right;\n",
       "    }\n",
       "<\/style>\n",
       "<table border=\"1\" class=\"dataframe\">\n",
       "  <thead>\n",
       "    <tr style=\"text-align: right;\">\n",
       "      <th><\/th>\n",
       "      <th>name<\/th>\n",
       "      <th>rating<\/th>\n",
       "      <th>genre<\/th>\n",
       "      <th>year<\/th>\n",
       "      <th>released<\/th>\n",
       "      <th>score<\/th>\n",
       "      <th>votes<\/th>\n",
       "      <th>director<\/th>\n",
       "      <th>writer<\/th>\n",
       "      <th>star<\/th>\n",
       "      <th>country<\/th>\n",
       "      <th>budget<\/th>\n",
       "      <th>gross<\/th>\n",
       "      <th>company<\/th>\n",
       "      <th>runtime<\/th>\n",
       "    <\/tr>\n",
       "  <\/thead>\n",
       "  <tbody>\n",
       "    <tr>\n",
       "      <th>0<\/th>\n",
       "      <td>The Shining<\/td>\n",
       "      <td>R<\/td>\n",
       "      <td>Drama<\/td>\n",
       "      <td>1980<\/td>\n",
       "      <td>June 13, 1980 (United States)<\/td>\n",
       "      <td>8.4<\/td>\n",
       "      <td>927000.0<\/td>\n",
       "      <td>Stanley Kubrick<\/td>\n",
       "      <td>Stephen King<\/td>\n",
       "      <td>Jack Nicholson<\/td>\n",
       "      <td>United Kingdom<\/td>\n",
       "      <td>19000000.0<\/td>\n",
       "      <td>46998772.0<\/td>\n",
       "      <td>Warner Bros.<\/td>\n",
       "      <td>146.0<\/td>\n",
       "    <\/tr>\n",
       "    <tr>\n",
       "      <th>1<\/th>\n",
       "      <td>The Blue Lagoon<\/td>\n",
       "      <td>R<\/td>\n",
       "      <td>Adventure<\/td>\n",
       "      <td>1980<\/td>\n",
       "      <td>July 2, 1980 (United States)<\/td>\n",
       "      <td>5.8<\/td>\n",
       "      <td>65000.0<\/td>\n",
       "      <td>Randal Kleiser<\/td>\n",
       "      <td>Henry De Vere Stacpoole<\/td>\n",
       "      <td>Brooke Shields<\/td>\n",
       "      <td>United States<\/td>\n",
       "      <td>4500000.0<\/td>\n",
       "      <td>58853106.0<\/td>\n",
       "      <td>Columbia Pictures<\/td>\n",
       "      <td>104.0<\/td>\n",
       "    <\/tr>\n",
       "    <tr>\n",
       "      <th>2<\/th>\n",
       "      <td>Star Wars: Episode V - The Empire Strikes Back<\/td>\n",
       "      <td>PG<\/td>\n",
       "      <td>Action<\/td>\n",
       "      <td>1980<\/td>\n",
       "      <td>June 20, 1980 (United States)<\/td>\n",
       "      <td>8.7<\/td>\n",
       "      <td>1200000.0<\/td>\n",
       "      <td>Irvin Kershner<\/td>\n",
       "      <td>Leigh Brackett<\/td>\n",
       "      <td>Mark Hamill<\/td>\n",
       "      <td>United States<\/td>\n",
       "      <td>18000000.0<\/td>\n",
       "      <td>538375067.0<\/td>\n",
       "      <td>Lucasfilm<\/td>\n",
       "      <td>124.0<\/td>\n",
       "    <\/tr>\n",
       "    <tr>\n",
       "      <th>3<\/th>\n",
       "      <td>Airplane!<\/td>\n",
       "      <td>PG<\/td>\n",
       "      <td>Comedy<\/td>\n",
       "      <td>1980<\/td>\n",
       "      <td>July 2, 1980 (United States)<\/td>\n",
       "      <td>7.7<\/td>\n",
       "      <td>221000.0<\/td>\n",
       "      <td>Jim Abrahams<\/td>\n",
       "      <td>Jim Abrahams<\/td>\n",
       "      <td>Robert Hays<\/td>\n",
       "      <td>United States<\/td>\n",
       "      <td>3500000.0<\/td>\n",
       "      <td>83453539.0<\/td>\n",
       "      <td>Paramount Pictures<\/td>\n",
       "      <td>88.0<\/td>\n",
       "    <\/tr>\n",
       "    <tr>\n",
       "      <th>4<\/th>\n",
       "      <td>Caddyshack<\/td>\n",
       "      <td>R<\/td>\n",
       "      <td>Comedy<\/td>\n",
       "      <td>1980<\/td>\n",
       "      <td>July 25, 1980 (United States)<\/td>\n",
       "      <td>7.3<\/td>\n",
       "      <td>108000.0<\/td>\n",
       "      <td>Harold Ramis<\/td>\n",
       "      <td>Brian Doyle-Murray<\/td>\n",
       "      <td>Chevy Chase<\/td>\n",
       "      <td>United States<\/td>\n",
       "      <td>6000000.0<\/td>\n",
       "      <td>39846344.0<\/td>\n",
       "      <td>Orion Pictures<\/td>\n",
       "      <td>98.0<\/td>\n",
       "    <\/tr>\n",
       "  <\/tbody>\n",
       "<\/table>\n",
       "<\/div>"
      ]
     },
     "metadata":{
      
     },
     "output_type":"display_data"
    }
   ],
   "metadata":{
    "datalore":{
     "node_id":"UnVMTpjcMZy4Q6rdQrYxkg",
     "type":"CODE",
     "hide_input_from_viewers":false,
     "hide_output_from_viewers":false
    }
   }
  },
  {
   "cell_type":"code",
   "source":[
    "# Checking Another round\n",
    "df.duplicated().value_counts().sum\n",
    "# No True Boloon = No Dup"
   ],
   "execution_count":132,
   "outputs":[
    {
     "data":{
      "text\/plain":[
       "<bound method NDFrame._add_numeric_operations.<locals>.sum of False    5421\n",
       "dtype: int64>"
      ]
     },
     "metadata":{
      
     },
     "output_type":"display_data"
    }
   ],
   "metadata":{
    "datalore":{
     "node_id":"8EnSwoPQJyKSar1tXa2nOL",
     "type":"CODE",
     "hide_input_from_viewers":false,
     "hide_output_from_viewers":false
    }
   }
  },
  {
   "cell_type":"markdown",
   "source":[
    "# Finding Correlations in the Data"
   ],
   "attachments":{
    
   },
   "metadata":{
    "datalore":{
     "node_id":"2Ev9XyGzqBmr0Qrp4z0H8T",
     "type":"MD",
     "hide_input_from_viewers":false,
     "hide_output_from_viewers":false
    }
   }
  },
  {
   "cell_type":"code",
   "source":[
    "# Budget high correlation\n",
    "# Hypothesis : company high budget = high gross rev"
   ],
   "execution_count":null,
   "outputs":[
    
   ],
   "metadata":{
    "datalore":{
     "node_id":"cGxXhtT5KiTHbJUfue5JFF",
     "type":"CODE",
     "hide_input_from_viewers":false,
     "hide_output_from_viewers":false
    }
   }
  },
  {
   "cell_type":"code",
   "source":[
    "# Scatter plot with budget vs gross\n",
    "plt.scatter(x=df['budget'], y=df['gross'])\n",
    "\n",
    "plt.title('Gross vs Earnings')\n",
    "plt.xlabel('Budget for Firms')\n",
    "plt.ylabel('Gross Earnings')\n",
    "plt.show()"
   ],
   "execution_count":8,
   "outputs":[
    {
     "data":{
      "image\/png":"[encoded data removed]"
     },
     "metadata":{
      "image\/png":{
       
      }
     },
     "output_type":"display_data"
    }
   ],
   "metadata":{
    "datalore":{
     "node_id":"AVIDjiZ6nDE7bH0QJYptSp",
     "type":"CODE",
     "hide_input_from_viewers":false,
     "hide_output_from_viewers":false
    }
   }
  },
  {
   "cell_type":"code",
   "source":[
    "# Plot budget vs gross using seaborn\n",
    "\n",
    "sns.regplot(x='budget', y='gross', data=df, scatter_kws={'color': 'red'}, line_kws={\"color\" : \"blue\"})"
   ],
   "execution_count":10,
   "outputs":[
    {
     "data":{
      "text\/plain":[
       "<AxesSubplot:xlabel='budget', ylabel='gross'>"
      ]
     },
     "metadata":{
      
     },
     "output_type":"display_data"
    },
    {
     "data":{
      "image\/png":"[encoded data removed]"
     },
     "metadata":{
      "image\/png":{
       
      }
     },
     "output_type":"display_data"
    }
   ],
   "metadata":{
    "datalore":{
     "node_id":"OFMN1SwHe2LrFAQeQNRNWy",
     "type":"CODE",
     "hide_input_from_viewers":false,
     "hide_output_from_viewers":false
    }
   }
  },
  {
   "cell_type":"code",
   "source":[
    "# the answers show it is corelated...but how much?\n",
    "df.corr(method='pearson') #pearson, kendall, spearman"
   ],
   "execution_count":18,
   "outputs":[
    {
     "data":{
      "text\/html":[
       "<div>\n",
       "<style scoped>\n",
       "    .dataframe tbody tr th:only-of-type {\n",
       "        vertical-align: middle;\n",
       "    }\n",
       "\n",
       "    .dataframe tbody tr th {\n",
       "        vertical-align: top;\n",
       "    }\n",
       "\n",
       "    .dataframe thead th {\n",
       "        text-align: right;\n",
       "    }\n",
       "<\/style>\n",
       "<table border=\"1\" class=\"dataframe\">\n",
       "  <thead>\n",
       "    <tr style=\"text-align: right;\">\n",
       "      <th><\/th>\n",
       "      <th>year<\/th>\n",
       "      <th>score<\/th>\n",
       "      <th>votes<\/th>\n",
       "      <th>budget<\/th>\n",
       "      <th>gross<\/th>\n",
       "      <th>runtime<\/th>\n",
       "    <\/tr>\n",
       "  <\/thead>\n",
       "  <tbody>\n",
       "    <tr>\n",
       "      <th>year<\/th>\n",
       "      <td>1.000000<\/td>\n",
       "      <td>0.097995<\/td>\n",
       "      <td>0.222945<\/td>\n",
       "      <td>0.329321<\/td>\n",
       "      <td>0.257486<\/td>\n",
       "      <td>0.120811<\/td>\n",
       "    <\/tr>\n",
       "    <tr>\n",
       "      <th>score<\/th>\n",
       "      <td>0.097995<\/td>\n",
       "      <td>1.000000<\/td>\n",
       "      <td>0.409182<\/td>\n",
       "      <td>0.076254<\/td>\n",
       "      <td>0.186258<\/td>\n",
       "      <td>0.399451<\/td>\n",
       "    <\/tr>\n",
       "    <tr>\n",
       "      <th>votes<\/th>\n",
       "      <td>0.222945<\/td>\n",
       "      <td>0.409182<\/td>\n",
       "      <td>1.000000<\/td>\n",
       "      <td>0.442429<\/td>\n",
       "      <td>0.630757<\/td>\n",
       "      <td>0.309212<\/td>\n",
       "    <\/tr>\n",
       "    <tr>\n",
       "      <th>budget<\/th>\n",
       "      <td>0.329321<\/td>\n",
       "      <td>0.076254<\/td>\n",
       "      <td>0.442429<\/td>\n",
       "      <td>1.000000<\/td>\n",
       "      <td>0.740395<\/td>\n",
       "      <td>0.320447<\/td>\n",
       "    <\/tr>\n",
       "    <tr>\n",
       "      <th>gross<\/th>\n",
       "      <td>0.257486<\/td>\n",
       "      <td>0.186258<\/td>\n",
       "      <td>0.630757<\/td>\n",
       "      <td>0.740395<\/td>\n",
       "      <td>1.000000<\/td>\n",
       "      <td>0.245216<\/td>\n",
       "    <\/tr>\n",
       "    <tr>\n",
       "      <th>runtime<\/th>\n",
       "      <td>0.120811<\/td>\n",
       "      <td>0.399451<\/td>\n",
       "      <td>0.309212<\/td>\n",
       "      <td>0.320447<\/td>\n",
       "      <td>0.245216<\/td>\n",
       "      <td>1.000000<\/td>\n",
       "    <\/tr>\n",
       "  <\/tbody>\n",
       "<\/table>\n",
       "<\/div>"
      ]
     },
     "metadata":{
      
     },
     "output_type":"display_data"
    }
   ],
   "metadata":{
    "datalore":{
     "node_id":"0z6UKcQjMTtE3mJhSNmw7T",
     "type":"CODE",
     "hide_input_from_viewers":false,
     "hide_output_from_viewers":false
    }
   }
  },
  {
   "cell_type":"code",
   "source":[
    "# Correlation between budget and gross\n",
    "correlation_matrix = df.corr(method='pearson')\n",
    "\n",
    "sns.heatmap(correlation_matrix, annot=True)\n",
    "\n",
    "plt.title('Correlation Matrix for Numeric Features')\n",
    "plt.xlabel('Movie Features')\n",
    "plt.ylabel('Movie Features')\n",
    "plt.show()"
   ],
   "execution_count":24,
   "outputs":[
    {
     "data":{
      "image\/png":"[encoded data removed]"
     },
     "metadata":{
      "image\/png":{
       
      }
     },
     "output_type":"display_data"
    }
   ],
   "metadata":{
    "datalore":{
     "node_id":"XlLF9Pde4kGx4LnpUyjGid",
     "type":"CODE",
     "hide_input_from_viewers":false,
     "hide_output_from_viewers":false
    }
   }
  },
  {
   "cell_type":"markdown",
   "source":[
    "# Roughly looking, the factors affecting the gross earnings are the votes and the budget\n",
    "However, normally, votes come after the on-air, so it is no surprise that the votes are highly correlated with high-gross-earning movies.\n",
    "\n",
    "To conclude **High Budget = High Gross Earning**"
   ],
   "attachments":{
    
   },
   "metadata":{
    "datalore":{
     "node_id":"ZD4eUgOttX9qqOpDqMF3Zi",
     "type":"MD",
     "hide_input_from_viewers":false,
     "hide_output_from_viewers":false
    }
   }
  },
  {
   "cell_type":"markdown",
   "source":[
    "# \"Do some genre tend to produce higher revenue than others?\""
   ],
   "attachments":{
    
   },
   "metadata":{
    "datalore":{
     "node_id":"G2SGOsQ9nh3HM1Wi3gc3JZ",
     "type":"MD",
     "hide_input_from_viewers":false,
     "hide_output_from_viewers":false
    }
   }
  },
  {
   "cell_type":"code",
   "source":[
    "# add more lib for stats\n",
    "from scipy.stats import stats"
   ],
   "execution_count":10,
   "outputs":[
    
   ],
   "metadata":{
    "datalore":{
     "node_id":"MJ7vSGDEQ8Ha4MEZVzauwa",
     "type":"CODE",
     "hide_input_from_viewers":false,
     "hide_output_from_viewers":false
    }
   }
  },
  {
   "cell_type":"code",
   "source":[
    "#Due to too much data, let cut half of them\n",
    "df2 = df.sort_values(by=['gross'], inplace=False, ascending=False)\n",
    "gross_mean = df2['gross'].mean()"
   ],
   "execution_count":19,
   "outputs":[
    
   ],
   "metadata":{
    "datalore":{
     "node_id":"LOtU0vonxCzTvdeuuyQtQi",
     "type":"CODE",
     "hide_input_from_viewers":false,
     "hide_output_from_viewers":false
    }
   }
  },
  {
   "cell_type":"code",
   "source":[
    "# just Test df3 = df2[df2['gross'] >= gross_mean]"
   ],
   "execution_count":28,
   "outputs":[
    
   ],
   "metadata":{
    "datalore":{
     "node_id":"JNqAoiwKTdEQ4M1bgWD9GG",
     "type":"CODE",
     "hide_input_from_viewers":false,
     "hide_output_from_viewers":false
    }
   }
  },
  {
   "cell_type":"code",
   "source":[
    "sns.stripplot(x='gross', y='genre', data=df2, color='orange')\n",
    "# Well, look like Action Genre produces the highest gross earnings"
   ],
   "execution_count":43,
   "outputs":[
    {
     "data":{
      "text\/plain":[
       "<AxesSubplot:xlabel='gross', ylabel='genre'>"
      ]
     },
     "metadata":{
      
     },
     "output_type":"display_data"
    },
    {
     "data":{
      "image\/png":"[encoded data removed]"
     },
     "metadata":{
      "image\/png":{
       
      }
     },
     "output_type":"display_data"
    }
   ],
   "metadata":{
    "datalore":{
     "node_id":"GxoQpj8kXHtfa5t1aRqSEB",
     "type":"CODE",
     "hide_input_from_viewers":false,
     "hide_output_from_viewers":false
    }
   }
  },
  {
   "cell_type":"code",
   "source":[
    "# is it really true? let's find out budget_per_earnings\n",
    "#df3['budget_per_earnings']"
   ],
   "execution_count":52,
   "outputs":[
    
   ],
   "metadata":{
    "datalore":{
     "node_id":"3IeifQJqWUjlV3R1PId61g",
     "type":"CODE",
     "hide_input_from_viewers":false,
     "hide_output_from_viewers":false
    }
   }
  },
  {
   "cell_type":"code",
   "source":[
    "df3 = df3.dropna()\n",
    "df3"
   ],
   "execution_count":51,
   "outputs":[
    {
     "data":{
      "text\/html":[
       "<div>\n",
       "<style scoped>\n",
       "    .dataframe tbody tr th:only-of-type {\n",
       "        vertical-align: middle;\n",
       "    }\n",
       "\n",
       "    .dataframe tbody tr th {\n",
       "        vertical-align: top;\n",
       "    }\n",
       "\n",
       "    .dataframe thead th {\n",
       "        text-align: right;\n",
       "    }\n",
       "<\/style>\n",
       "<table border=\"1\" class=\"dataframe\">\n",
       "  <thead>\n",
       "    <tr style=\"text-align: right;\">\n",
       "      <th><\/th>\n",
       "      <th>name<\/th>\n",
       "      <th>rating<\/th>\n",
       "      <th>genre<\/th>\n",
       "      <th>year<\/th>\n",
       "      <th>released<\/th>\n",
       "      <th>score<\/th>\n",
       "      <th>votes<\/th>\n",
       "      <th>director<\/th>\n",
       "      <th>writer<\/th>\n",
       "      <th>star<\/th>\n",
       "      <th>country<\/th>\n",
       "      <th>budget<\/th>\n",
       "      <th>gross<\/th>\n",
       "      <th>company<\/th>\n",
       "      <th>runtime<\/th>\n",
       "    <\/tr>\n",
       "  <\/thead>\n",
       "  <tbody>\n",
       "    <tr>\n",
       "      <th>5445<\/th>\n",
       "      <td>Avatar<\/td>\n",
       "      <td>PG-13<\/td>\n",
       "      <td>Action<\/td>\n",
       "      <td>2009<\/td>\n",
       "      <td>December 18, 2009 (United States)<\/td>\n",
       "      <td>7.8<\/td>\n",
       "      <td>1100000.0<\/td>\n",
       "      <td>James Cameron<\/td>\n",
       "      <td>James Cameron<\/td>\n",
       "      <td>Sam Worthington<\/td>\n",
       "      <td>United States<\/td>\n",
       "      <td>237000000.0<\/td>\n",
       "      <td>2.847246e+09<\/td>\n",
       "      <td>Twentieth Century Fox<\/td>\n",
       "      <td>162.0<\/td>\n",
       "    <\/tr>\n",
       "    <tr>\n",
       "      <th>7445<\/th>\n",
       "      <td>Avengers: Endgame<\/td>\n",
       "      <td>PG-13<\/td>\n",
       "      <td>Action<\/td>\n",
       "      <td>2019<\/td>\n",
       "      <td>April 26, 2019 (United States)<\/td>\n",
       "      <td>8.4<\/td>\n",
       "      <td>903000.0<\/td>\n",
       "      <td>Anthony Russo<\/td>\n",
       "      <td>Christopher Markus<\/td>\n",
       "      <td>Robert Downey Jr.<\/td>\n",
       "      <td>United States<\/td>\n",
       "      <td>356000000.0<\/td>\n",
       "      <td>2.797501e+09<\/td>\n",
       "      <td>Marvel Studios<\/td>\n",
       "      <td>181.0<\/td>\n",
       "    <\/tr>\n",
       "    <tr>\n",
       "      <th>3045<\/th>\n",
       "      <td>Titanic<\/td>\n",
       "      <td>PG-13<\/td>\n",
       "      <td>Drama<\/td>\n",
       "      <td>1997<\/td>\n",
       "      <td>December 19, 1997 (United States)<\/td>\n",
       "      <td>7.8<\/td>\n",
       "      <td>1100000.0<\/td>\n",
       "      <td>James Cameron<\/td>\n",
       "      <td>James Cameron<\/td>\n",
       "      <td>Leonardo DiCaprio<\/td>\n",
       "      <td>United States<\/td>\n",
       "      <td>200000000.0<\/td>\n",
       "      <td>2.201647e+09<\/td>\n",
       "      <td>Twentieth Century Fox<\/td>\n",
       "      <td>194.0<\/td>\n",
       "    <\/tr>\n",
       "    <tr>\n",
       "      <th>6663<\/th>\n",
       "      <td>Star Wars: Episode VII - The Force Awakens<\/td>\n",
       "      <td>PG-13<\/td>\n",
       "      <td>Action<\/td>\n",
       "      <td>2015<\/td>\n",
       "      <td>December 18, 2015 (United States)<\/td>\n",
       "      <td>7.8<\/td>\n",
       "      <td>876000.0<\/td>\n",
       "      <td>J.J. Abrams<\/td>\n",
       "      <td>Lawrence Kasdan<\/td>\n",
       "      <td>Daisy Ridley<\/td>\n",
       "      <td>United States<\/td>\n",
       "      <td>245000000.0<\/td>\n",
       "      <td>2.069522e+09<\/td>\n",
       "      <td>Lucasfilm<\/td>\n",
       "      <td>138.0<\/td>\n",
       "    <\/tr>\n",
       "    <tr>\n",
       "      <th>7244<\/th>\n",
       "      <td>Avengers: Infinity War<\/td>\n",
       "      <td>PG-13<\/td>\n",
       "      <td>Action<\/td>\n",
       "      <td>2018<\/td>\n",
       "      <td>April 27, 2018 (United States)<\/td>\n",
       "      <td>8.4<\/td>\n",
       "      <td>897000.0<\/td>\n",
       "      <td>Anthony Russo<\/td>\n",
       "      <td>Christopher Markus<\/td>\n",
       "      <td>Robert Downey Jr.<\/td>\n",
       "      <td>United States<\/td>\n",
       "      <td>321000000.0<\/td>\n",
       "      <td>2.048360e+09<\/td>\n",
       "      <td>Marvel Studios<\/td>\n",
       "      <td>149.0<\/td>\n",
       "    <\/tr>\n",
       "    <tr>\n",
       "      <th>...<\/th>\n",
       "      <td>...<\/td>\n",
       "      <td>...<\/td>\n",
       "      <td>...<\/td>\n",
       "      <td>...<\/td>\n",
       "      <td>...<\/td>\n",
       "      <td>...<\/td>\n",
       "      <td>...<\/td>\n",
       "      <td>...<\/td>\n",
       "      <td>...<\/td>\n",
       "      <td>...<\/td>\n",
       "      <td>...<\/td>\n",
       "      <td>...<\/td>\n",
       "      <td>...<\/td>\n",
       "      <td>...<\/td>\n",
       "      <td>...<\/td>\n",
       "    <\/tr>\n",
       "    <tr>\n",
       "      <th>215<\/th>\n",
       "      <td>48 Hrs.<\/td>\n",
       "      <td>R<\/td>\n",
       "      <td>Action<\/td>\n",
       "      <td>1982<\/td>\n",
       "      <td>December 8, 1982 (United States)<\/td>\n",
       "      <td>6.9<\/td>\n",
       "      <td>73000.0<\/td>\n",
       "      <td>Walter Hill<\/td>\n",
       "      <td>Roger Spottiswoode<\/td>\n",
       "      <td>Nick Nolte<\/td>\n",
       "      <td>United States<\/td>\n",
       "      <td>12000000.0<\/td>\n",
       "      <td>7.886851e+07<\/td>\n",
       "      <td>Paramount Pictures<\/td>\n",
       "      <td>96.0<\/td>\n",
       "    <\/tr>\n",
       "    <tr>\n",
       "      <th>5038<\/th>\n",
       "      <td>The Sentinel<\/td>\n",
       "      <td>PG-13<\/td>\n",
       "      <td>Action<\/td>\n",
       "      <td>2006<\/td>\n",
       "      <td>April 21, 2006 (United States)<\/td>\n",
       "      <td>6.1<\/td>\n",
       "      <td>49000.0<\/td>\n",
       "      <td>Clark Johnson<\/td>\n",
       "      <td>George Nolfi<\/td>\n",
       "      <td>Michael Douglas<\/td>\n",
       "      <td>United States<\/td>\n",
       "      <td>60000000.0<\/td>\n",
       "      <td>7.881060e+07<\/td>\n",
       "      <td>Twentieth Century Fox<\/td>\n",
       "      <td>108.0<\/td>\n",
       "    <\/tr>\n",
       "    <tr>\n",
       "      <th>1261<\/th>\n",
       "      <td>The Naked Gun: from the Files of Police Squad!<\/td>\n",
       "      <td>PG-13<\/td>\n",
       "      <td>Comedy<\/td>\n",
       "      <td>1988<\/td>\n",
       "      <td>December 2, 1988 (United States)<\/td>\n",
       "      <td>7.6<\/td>\n",
       "      <td>158000.0<\/td>\n",
       "      <td>David Zucker<\/td>\n",
       "      <td>Jerry Zucker<\/td>\n",
       "      <td>Leslie Nielsen<\/td>\n",
       "      <td>United States<\/td>\n",
       "      <td>12000000.0<\/td>\n",
       "      <td>7.875618e+07<\/td>\n",
       "      <td>Paramount Pictures<\/td>\n",
       "      <td>85.0<\/td>\n",
       "    <\/tr>\n",
       "    <tr>\n",
       "      <th>1881<\/th>\n",
       "      <td>Teenage Mutant Ninja Turtles II: The Secret of...<\/td>\n",
       "      <td>PG<\/td>\n",
       "      <td>Action<\/td>\n",
       "      <td>1991<\/td>\n",
       "      <td>March 22, 1991 (United States)<\/td>\n",
       "      <td>6.0<\/td>\n",
       "      <td>53000.0<\/td>\n",
       "      <td>Michael Pressman<\/td>\n",
       "      <td>Kevin Eastman<\/td>\n",
       "      <td>Paige Turco<\/td>\n",
       "      <td>United States<\/td>\n",
       "      <td>25000000.0<\/td>\n",
       "      <td>7.865681e+07<\/td>\n",
       "      <td>Golden Harvest Company<\/td>\n",
       "      <td>88.0<\/td>\n",
       "    <\/tr>\n",
       "    <tr>\n",
       "      <th>4986<\/th>\n",
       "      <td>Curse of the Golden Flower<\/td>\n",
       "      <td>R<\/td>\n",
       "      <td>Action<\/td>\n",
       "      <td>2006<\/td>\n",
       "      <td>January 12, 2007 (United States)<\/td>\n",
       "      <td>7.0<\/td>\n",
       "      <td>43000.0<\/td>\n",
       "      <td>Yimou Zhang<\/td>\n",
       "      <td>Zhihong Bian<\/td>\n",
       "      <td>Chow Yun-Fat<\/td>\n",
       "      <td>Hong Kong<\/td>\n",
       "      <td>45000000.0<\/td>\n",
       "      <td>7.856898e+07<\/td>\n",
       "      <td>Film Partner International<\/td>\n",
       "      <td>114.0<\/td>\n",
       "    <\/tr>\n",
       "  <\/tbody>\n",
       "<\/table>\n",
       "<p>1758 rows × 15 columns<\/p>\n",
       "<\/div>"
      ]
     },
     "metadata":{
      
     },
     "output_type":"display_data"
    }
   ],
   "metadata":{
    "datalore":{
     "node_id":"899Jvs6qPQ9hQBfcIZhZ72",
     "type":"CODE",
     "hide_input_from_viewers":false,
     "hide_output_from_viewers":false
    }
   }
  },
  {
   "cell_type":"code",
   "source":[
    "df3['gross_per_budget'] = df3['gross'].div(df3['budget'])\n",
    "df3\n",
    "\n",
    "#Now we have gross_per_budget(G\/B) or ROI(return of invesment)"
   ],
   "execution_count":104,
   "outputs":[
    {
     "data":{
      "text\/html":[
       "<div>\n",
       "<style scoped>\n",
       "    .dataframe tbody tr th:only-of-type {\n",
       "        vertical-align: middle;\n",
       "    }\n",
       "\n",
       "    .dataframe tbody tr th {\n",
       "        vertical-align: top;\n",
       "    }\n",
       "\n",
       "    .dataframe thead th {\n",
       "        text-align: right;\n",
       "    }\n",
       "<\/style>\n",
       "<table border=\"1\" class=\"dataframe\">\n",
       "  <thead>\n",
       "    <tr style=\"text-align: right;\">\n",
       "      <th><\/th>\n",
       "      <th>name<\/th>\n",
       "      <th>rating<\/th>\n",
       "      <th>genre<\/th>\n",
       "      <th>year<\/th>\n",
       "      <th>released<\/th>\n",
       "      <th>score<\/th>\n",
       "      <th>votes<\/th>\n",
       "      <th>director<\/th>\n",
       "      <th>writer<\/th>\n",
       "      <th>star<\/th>\n",
       "      <th>country<\/th>\n",
       "      <th>budget<\/th>\n",
       "      <th>gross<\/th>\n",
       "      <th>company<\/th>\n",
       "      <th>runtime<\/th>\n",
       "      <th>gross_per_budget<\/th>\n",
       "    <\/tr>\n",
       "  <\/thead>\n",
       "  <tbody>\n",
       "    <tr>\n",
       "      <th>6237<\/th>\n",
       "      <td>The Devil Inside<\/td>\n",
       "      <td>R<\/td>\n",
       "      <td>Horror<\/td>\n",
       "      <td>2012<\/td>\n",
       "      <td>January 6, 2012 (United States)<\/td>\n",
       "      <td>4.2<\/td>\n",
       "      <td>35000.0<\/td>\n",
       "      <td>William Brent Bell<\/td>\n",
       "      <td>William Brent Bell<\/td>\n",
       "      <td>Fernanda Andrade<\/td>\n",
       "      <td>United States<\/td>\n",
       "      <td>1000000.0<\/td>\n",
       "      <td>101758490.0<\/td>\n",
       "      <td>Insurge Pictures<\/td>\n",
       "      <td>83.0<\/td>\n",
       "      <td>101.758490<\/td>\n",
       "    <\/tr>\n",
       "    <tr>\n",
       "      <th>4456<\/th>\n",
       "      <td>Saw<\/td>\n",
       "      <td>R<\/td>\n",
       "      <td>Horror<\/td>\n",
       "      <td>2004<\/td>\n",
       "      <td>October 29, 2004 (United States)<\/td>\n",
       "      <td>7.6<\/td>\n",
       "      <td>391000.0<\/td>\n",
       "      <td>James Wan<\/td>\n",
       "      <td>Leigh Whannell<\/td>\n",
       "      <td>Cary Elwes<\/td>\n",
       "      <td>United States<\/td>\n",
       "      <td>1200000.0<\/td>\n",
       "      <td>103911669.0<\/td>\n",
       "      <td>Evolution Entertainment<\/td>\n",
       "      <td>103.0<\/td>\n",
       "      <td>86.593058<\/td>\n",
       "    <\/tr>\n",
       "    <tr>\n",
       "      <th>209<\/th>\n",
       "      <td>E.T. the Extra-Terrestrial<\/td>\n",
       "      <td>PG<\/td>\n",
       "      <td>Family<\/td>\n",
       "      <td>1982<\/td>\n",
       "      <td>June 11, 1982 (United States)<\/td>\n",
       "      <td>7.8<\/td>\n",
       "      <td>381000.0<\/td>\n",
       "      <td>Steven Spielberg<\/td>\n",
       "      <td>Melissa Mathison<\/td>\n",
       "      <td>Henry Thomas<\/td>\n",
       "      <td>United States<\/td>\n",
       "      <td>10500000.0<\/td>\n",
       "      <td>792910554.0<\/td>\n",
       "      <td>Universal Pictures<\/td>\n",
       "      <td>115.0<\/td>\n",
       "      <td>75.515291<\/td>\n",
       "    <\/tr>\n",
       "    <tr>\n",
       "      <th>3089<\/th>\n",
       "      <td>The Full Monty<\/td>\n",
       "      <td>R<\/td>\n",
       "      <td>Comedy<\/td>\n",
       "      <td>1997<\/td>\n",
       "      <td>September 19, 1997 (United States)<\/td>\n",
       "      <td>7.2<\/td>\n",
       "      <td>101000.0<\/td>\n",
       "      <td>Peter Cattaneo<\/td>\n",
       "      <td>Simon Beaufoy<\/td>\n",
       "      <td>Robert Carlyle<\/td>\n",
       "      <td>United Kingdom<\/td>\n",
       "      <td>3500000.0<\/td>\n",
       "      <td>257938649.0<\/td>\n",
       "      <td>Redwave Films<\/td>\n",
       "      <td>91.0<\/td>\n",
       "      <td>73.696757<\/td>\n",
       "    <\/tr>\n",
       "    <tr>\n",
       "      <th>4080<\/th>\n",
       "      <td>My Big Fat Greek Wedding<\/td>\n",
       "      <td>PG<\/td>\n",
       "      <td>Comedy<\/td>\n",
       "      <td>2002<\/td>\n",
       "      <td>August 2, 2002 (United States)<\/td>\n",
       "      <td>6.6<\/td>\n",
       "      <td>122000.0<\/td>\n",
       "      <td>Joel Zwick<\/td>\n",
       "      <td>Nia Vardalos<\/td>\n",
       "      <td>Nia Vardalos<\/td>\n",
       "      <td>Canada<\/td>\n",
       "      <td>5000000.0<\/td>\n",
       "      <td>368744044.0<\/td>\n",
       "      <td>Gold Circle Films<\/td>\n",
       "      <td>95.0<\/td>\n",
       "      <td>73.748809<\/td>\n",
       "    <\/tr>\n",
       "    <tr>\n",
       "      <th>...<\/th>\n",
       "      <td>...<\/td>\n",
       "      <td>...<\/td>\n",
       "      <td>...<\/td>\n",
       "      <td>...<\/td>\n",
       "      <td>...<\/td>\n",
       "      <td>...<\/td>\n",
       "      <td>...<\/td>\n",
       "      <td>...<\/td>\n",
       "      <td>...<\/td>\n",
       "      <td>...<\/td>\n",
       "      <td>...<\/td>\n",
       "      <td>...<\/td>\n",
       "      <td>...<\/td>\n",
       "      <td>...<\/td>\n",
       "      <td>...<\/td>\n",
       "      <td>...<\/td>\n",
       "    <\/tr>\n",
       "    <tr>\n",
       "      <th>4787<\/th>\n",
       "      <td>Stealth<\/td>\n",
       "      <td>PG-13<\/td>\n",
       "      <td>Action<\/td>\n",
       "      <td>2005<\/td>\n",
       "      <td>July 29, 2005 (United States)<\/td>\n",
       "      <td>5.1<\/td>\n",
       "      <td>52000.0<\/td>\n",
       "      <td>Rob Cohen<\/td>\n",
       "      <td>W.D. Richter<\/td>\n",
       "      <td>Josh Lucas<\/td>\n",
       "      <td>United States<\/td>\n",
       "      <td>135000000.0<\/td>\n",
       "      <td>79268322.0<\/td>\n",
       "      <td>Columbia Pictures<\/td>\n",
       "      <td>121.0<\/td>\n",
       "      <td>0.587173<\/td>\n",
       "    <\/tr>\n",
       "    <tr>\n",
       "      <th>5205<\/th>\n",
       "      <td>Fred Claus<\/td>\n",
       "      <td>PG<\/td>\n",
       "      <td>Comedy<\/td>\n",
       "      <td>2007<\/td>\n",
       "      <td>November 9, 2007 (United States)<\/td>\n",
       "      <td>5.6<\/td>\n",
       "      <td>41000.0<\/td>\n",
       "      <td>David Dobkin<\/td>\n",
       "      <td>Dan Fogelman<\/td>\n",
       "      <td>Vince Vaughn<\/td>\n",
       "      <td>United States<\/td>\n",
       "      <td>100000000.0<\/td>\n",
       "      <td>97838349.0<\/td>\n",
       "      <td>Warner Bros.<\/td>\n",
       "      <td>116.0<\/td>\n",
       "      <td>0.978383<\/td>\n",
       "    <\/tr>\n",
       "    <tr>\n",
       "      <th>3942<\/th>\n",
       "      <td>Ali<\/td>\n",
       "      <td>R<\/td>\n",
       "      <td>Biography<\/td>\n",
       "      <td>2001<\/td>\n",
       "      <td>December 25, 2001 (United States)<\/td>\n",
       "      <td>6.8<\/td>\n",
       "      <td>95000.0<\/td>\n",
       "      <td>Michael Mann<\/td>\n",
       "      <td>Gregory Allen Howard<\/td>\n",
       "      <td>Will Smith<\/td>\n",
       "      <td>United States<\/td>\n",
       "      <td>107000000.0<\/td>\n",
       "      <td>87812729.0<\/td>\n",
       "      <td>Columbia Pictures<\/td>\n",
       "      <td>157.0<\/td>\n",
       "      <td>0.820680<\/td>\n",
       "    <\/tr>\n",
       "    <tr>\n",
       "      <th>6312<\/th>\n",
       "      <td>47 Ronin<\/td>\n",
       "      <td>PG-13<\/td>\n",
       "      <td>Action<\/td>\n",
       "      <td>2013<\/td>\n",
       "      <td>December 25, 2013 (United States)<\/td>\n",
       "      <td>6.3<\/td>\n",
       "      <td>152000.0<\/td>\n",
       "      <td>Carl Rinsch<\/td>\n",
       "      <td>Chris Morgan<\/td>\n",
       "      <td>Keanu Reeves<\/td>\n",
       "      <td>United States<\/td>\n",
       "      <td>175000000.0<\/td>\n",
       "      <td>151783839.0<\/td>\n",
       "      <td>Bluegrass Films<\/td>\n",
       "      <td>128.0<\/td>\n",
       "      <td>0.867336<\/td>\n",
       "    <\/tr>\n",
       "    <tr>\n",
       "      <th>7081<\/th>\n",
       "      <td>King Arthur: Legend of the Sword<\/td>\n",
       "      <td>PG-13<\/td>\n",
       "      <td>Action<\/td>\n",
       "      <td>2017<\/td>\n",
       "      <td>May 12, 2017 (United States)<\/td>\n",
       "      <td>6.7<\/td>\n",
       "      <td>200000.0<\/td>\n",
       "      <td>Guy Ritchie<\/td>\n",
       "      <td>Joby Harold<\/td>\n",
       "      <td>Charlie Hunnam<\/td>\n",
       "      <td>United Kingdom<\/td>\n",
       "      <td>175000000.0<\/td>\n",
       "      <td>148675066.0<\/td>\n",
       "      <td>Warner Bros.<\/td>\n",
       "      <td>126.0<\/td>\n",
       "      <td>0.849572<\/td>\n",
       "    <\/tr>\n",
       "  <\/tbody>\n",
       "<\/table>\n",
       "<p>1748 rows × 16 columns<\/p>\n",
       "<\/div>"
      ]
     },
     "metadata":{
      
     },
     "output_type":"display_data"
    }
   ],
   "metadata":{
    "datalore":{
     "node_id":"WlRjb7dy1oA7HGxIVHTfBk",
     "type":"CODE",
     "hide_input_from_viewers":false,
     "hide_output_from_viewers":false
    }
   }
  },
  {
   "cell_type":"code",
   "source":[
    "#make it int\n",
    "df3 = df3.astype({'gross_per_budget' : int})"
   ],
   "execution_count":105,
   "outputs":[
    
   ],
   "metadata":{
    "datalore":{
     "node_id":"ZsyPvHU9gaFjQAx1bRHuun",
     "type":"CODE",
     "hide_input_from_viewers":false,
     "hide_output_from_viewers":false
    }
   }
  },
  {
   "cell_type":"code",
   "source":[
    "#let's check which genre has the highest G\/B\n",
    "ROI = sns.stripplot(x='genre', y='gross_per_budget', data=df3, color='teal')"
   ],
   "execution_count":106,
   "outputs":[
    {
     "data":{
      "image\/png":"[encoded data removed]"
     },
     "metadata":{
      "image\/png":{
       
      }
     },
     "output_type":"display_data"
    }
   ],
   "metadata":{
    "datalore":{
     "node_id":"t2c97plcpQLKXfY4cKMp1B",
     "type":"CODE",
     "hide_input_from_viewers":false,
     "hide_output_from_viewers":false
    }
   }
  },
  {
   "cell_type":"markdown",
   "source":[
    "# To be concluded by the beginner's views\n",
    "If you want to get rich by making movies, you should focus on **Horror, Comedy, Action, or Drama**\n",
    "\n",
    "for Familiy Genre, there are too few dataset, so it is hard to say"
   ],
   "attachments":{
    
   },
   "metadata":{
    "datalore":{
     "node_id":"VqnFJmmL2uXyYMKrXYzuAe",
     "type":"MD",
     "hide_input_from_viewers":false,
     "hide_output_from_viewers":false
    }
   }
  },
  {
   "cell_type":"code",
   "source":[
    "df3"
   ],
   "execution_count":107,
   "outputs":[
    {
     "data":{
      "text\/html":[
       "<div>\n",
       "<style scoped>\n",
       "    .dataframe tbody tr th:only-of-type {\n",
       "        vertical-align: middle;\n",
       "    }\n",
       "\n",
       "    .dataframe tbody tr th {\n",
       "        vertical-align: top;\n",
       "    }\n",
       "\n",
       "    .dataframe thead th {\n",
       "        text-align: right;\n",
       "    }\n",
       "<\/style>\n",
       "<table border=\"1\" class=\"dataframe\">\n",
       "  <thead>\n",
       "    <tr style=\"text-align: right;\">\n",
       "      <th><\/th>\n",
       "      <th>name<\/th>\n",
       "      <th>rating<\/th>\n",
       "      <th>genre<\/th>\n",
       "      <th>year<\/th>\n",
       "      <th>released<\/th>\n",
       "      <th>score<\/th>\n",
       "      <th>votes<\/th>\n",
       "      <th>director<\/th>\n",
       "      <th>writer<\/th>\n",
       "      <th>star<\/th>\n",
       "      <th>country<\/th>\n",
       "      <th>budget<\/th>\n",
       "      <th>gross<\/th>\n",
       "      <th>company<\/th>\n",
       "      <th>runtime<\/th>\n",
       "      <th>gross_per_budget<\/th>\n",
       "    <\/tr>\n",
       "  <\/thead>\n",
       "  <tbody>\n",
       "    <tr>\n",
       "      <th>6237<\/th>\n",
       "      <td>The Devil Inside<\/td>\n",
       "      <td>R<\/td>\n",
       "      <td>Horror<\/td>\n",
       "      <td>2012<\/td>\n",
       "      <td>January 6, 2012 (United States)<\/td>\n",
       "      <td>4.2<\/td>\n",
       "      <td>35000.0<\/td>\n",
       "      <td>William Brent Bell<\/td>\n",
       "      <td>William Brent Bell<\/td>\n",
       "      <td>Fernanda Andrade<\/td>\n",
       "      <td>United States<\/td>\n",
       "      <td>1000000.0<\/td>\n",
       "      <td>101758490.0<\/td>\n",
       "      <td>Insurge Pictures<\/td>\n",
       "      <td>83.0<\/td>\n",
       "      <td>101<\/td>\n",
       "    <\/tr>\n",
       "    <tr>\n",
       "      <th>4456<\/th>\n",
       "      <td>Saw<\/td>\n",
       "      <td>R<\/td>\n",
       "      <td>Horror<\/td>\n",
       "      <td>2004<\/td>\n",
       "      <td>October 29, 2004 (United States)<\/td>\n",
       "      <td>7.6<\/td>\n",
       "      <td>391000.0<\/td>\n",
       "      <td>James Wan<\/td>\n",
       "      <td>Leigh Whannell<\/td>\n",
       "      <td>Cary Elwes<\/td>\n",
       "      <td>United States<\/td>\n",
       "      <td>1200000.0<\/td>\n",
       "      <td>103911669.0<\/td>\n",
       "      <td>Evolution Entertainment<\/td>\n",
       "      <td>103.0<\/td>\n",
       "      <td>86<\/td>\n",
       "    <\/tr>\n",
       "    <tr>\n",
       "      <th>209<\/th>\n",
       "      <td>E.T. the Extra-Terrestrial<\/td>\n",
       "      <td>PG<\/td>\n",
       "      <td>Family<\/td>\n",
       "      <td>1982<\/td>\n",
       "      <td>June 11, 1982 (United States)<\/td>\n",
       "      <td>7.8<\/td>\n",
       "      <td>381000.0<\/td>\n",
       "      <td>Steven Spielberg<\/td>\n",
       "      <td>Melissa Mathison<\/td>\n",
       "      <td>Henry Thomas<\/td>\n",
       "      <td>United States<\/td>\n",
       "      <td>10500000.0<\/td>\n",
       "      <td>792910554.0<\/td>\n",
       "      <td>Universal Pictures<\/td>\n",
       "      <td>115.0<\/td>\n",
       "      <td>75<\/td>\n",
       "    <\/tr>\n",
       "    <tr>\n",
       "      <th>3089<\/th>\n",
       "      <td>The Full Monty<\/td>\n",
       "      <td>R<\/td>\n",
       "      <td>Comedy<\/td>\n",
       "      <td>1997<\/td>\n",
       "      <td>September 19, 1997 (United States)<\/td>\n",
       "      <td>7.2<\/td>\n",
       "      <td>101000.0<\/td>\n",
       "      <td>Peter Cattaneo<\/td>\n",
       "      <td>Simon Beaufoy<\/td>\n",
       "      <td>Robert Carlyle<\/td>\n",
       "      <td>United Kingdom<\/td>\n",
       "      <td>3500000.0<\/td>\n",
       "      <td>257938649.0<\/td>\n",
       "      <td>Redwave Films<\/td>\n",
       "      <td>91.0<\/td>\n",
       "      <td>73<\/td>\n",
       "    <\/tr>\n",
       "    <tr>\n",
       "      <th>4080<\/th>\n",
       "      <td>My Big Fat Greek Wedding<\/td>\n",
       "      <td>PG<\/td>\n",
       "      <td>Comedy<\/td>\n",
       "      <td>2002<\/td>\n",
       "      <td>August 2, 2002 (United States)<\/td>\n",
       "      <td>6.6<\/td>\n",
       "      <td>122000.0<\/td>\n",
       "      <td>Joel Zwick<\/td>\n",
       "      <td>Nia Vardalos<\/td>\n",
       "      <td>Nia Vardalos<\/td>\n",
       "      <td>Canada<\/td>\n",
       "      <td>5000000.0<\/td>\n",
       "      <td>368744044.0<\/td>\n",
       "      <td>Gold Circle Films<\/td>\n",
       "      <td>95.0<\/td>\n",
       "      <td>73<\/td>\n",
       "    <\/tr>\n",
       "    <tr>\n",
       "      <th>...<\/th>\n",
       "      <td>...<\/td>\n",
       "      <td>...<\/td>\n",
       "      <td>...<\/td>\n",
       "      <td>...<\/td>\n",
       "      <td>...<\/td>\n",
       "      <td>...<\/td>\n",
       "      <td>...<\/td>\n",
       "      <td>...<\/td>\n",
       "      <td>...<\/td>\n",
       "      <td>...<\/td>\n",
       "      <td>...<\/td>\n",
       "      <td>...<\/td>\n",
       "      <td>...<\/td>\n",
       "      <td>...<\/td>\n",
       "      <td>...<\/td>\n",
       "      <td>...<\/td>\n",
       "    <\/tr>\n",
       "    <tr>\n",
       "      <th>4787<\/th>\n",
       "      <td>Stealth<\/td>\n",
       "      <td>PG-13<\/td>\n",
       "      <td>Action<\/td>\n",
       "      <td>2005<\/td>\n",
       "      <td>July 29, 2005 (United States)<\/td>\n",
       "      <td>5.1<\/td>\n",
       "      <td>52000.0<\/td>\n",
       "      <td>Rob Cohen<\/td>\n",
       "      <td>W.D. Richter<\/td>\n",
       "      <td>Josh Lucas<\/td>\n",
       "      <td>United States<\/td>\n",
       "      <td>135000000.0<\/td>\n",
       "      <td>79268322.0<\/td>\n",
       "      <td>Columbia Pictures<\/td>\n",
       "      <td>121.0<\/td>\n",
       "      <td>0<\/td>\n",
       "    <\/tr>\n",
       "    <tr>\n",
       "      <th>5205<\/th>\n",
       "      <td>Fred Claus<\/td>\n",
       "      <td>PG<\/td>\n",
       "      <td>Comedy<\/td>\n",
       "      <td>2007<\/td>\n",
       "      <td>November 9, 2007 (United States)<\/td>\n",
       "      <td>5.6<\/td>\n",
       "      <td>41000.0<\/td>\n",
       "      <td>David Dobkin<\/td>\n",
       "      <td>Dan Fogelman<\/td>\n",
       "      <td>Vince Vaughn<\/td>\n",
       "      <td>United States<\/td>\n",
       "      <td>100000000.0<\/td>\n",
       "      <td>97838349.0<\/td>\n",
       "      <td>Warner Bros.<\/td>\n",
       "      <td>116.0<\/td>\n",
       "      <td>0<\/td>\n",
       "    <\/tr>\n",
       "    <tr>\n",
       "      <th>3942<\/th>\n",
       "      <td>Ali<\/td>\n",
       "      <td>R<\/td>\n",
       "      <td>Biography<\/td>\n",
       "      <td>2001<\/td>\n",
       "      <td>December 25, 2001 (United States)<\/td>\n",
       "      <td>6.8<\/td>\n",
       "      <td>95000.0<\/td>\n",
       "      <td>Michael Mann<\/td>\n",
       "      <td>Gregory Allen Howard<\/td>\n",
       "      <td>Will Smith<\/td>\n",
       "      <td>United States<\/td>\n",
       "      <td>107000000.0<\/td>\n",
       "      <td>87812729.0<\/td>\n",
       "      <td>Columbia Pictures<\/td>\n",
       "      <td>157.0<\/td>\n",
       "      <td>0<\/td>\n",
       "    <\/tr>\n",
       "    <tr>\n",
       "      <th>6312<\/th>\n",
       "      <td>47 Ronin<\/td>\n",
       "      <td>PG-13<\/td>\n",
       "      <td>Action<\/td>\n",
       "      <td>2013<\/td>\n",
       "      <td>December 25, 2013 (United States)<\/td>\n",
       "      <td>6.3<\/td>\n",
       "      <td>152000.0<\/td>\n",
       "      <td>Carl Rinsch<\/td>\n",
       "      <td>Chris Morgan<\/td>\n",
       "      <td>Keanu Reeves<\/td>\n",
       "      <td>United States<\/td>\n",
       "      <td>175000000.0<\/td>\n",
       "      <td>151783839.0<\/td>\n",
       "      <td>Bluegrass Films<\/td>\n",
       "      <td>128.0<\/td>\n",
       "      <td>0<\/td>\n",
       "    <\/tr>\n",
       "    <tr>\n",
       "      <th>7081<\/th>\n",
       "      <td>King Arthur: Legend of the Sword<\/td>\n",
       "      <td>PG-13<\/td>\n",
       "      <td>Action<\/td>\n",
       "      <td>2017<\/td>\n",
       "      <td>May 12, 2017 (United States)<\/td>\n",
       "      <td>6.7<\/td>\n",
       "      <td>200000.0<\/td>\n",
       "      <td>Guy Ritchie<\/td>\n",
       "      <td>Joby Harold<\/td>\n",
       "      <td>Charlie Hunnam<\/td>\n",
       "      <td>United Kingdom<\/td>\n",
       "      <td>175000000.0<\/td>\n",
       "      <td>148675066.0<\/td>\n",
       "      <td>Warner Bros.<\/td>\n",
       "      <td>126.0<\/td>\n",
       "      <td>0<\/td>\n",
       "    <\/tr>\n",
       "  <\/tbody>\n",
       "<\/table>\n",
       "<p>1748 rows × 16 columns<\/p>\n",
       "<\/div>"
      ]
     },
     "metadata":{
      
     },
     "output_type":"display_data"
    }
   ],
   "metadata":{
    "datalore":{
     "node_id":"gUcZRpDWzBJi9q7pkdMKmv",
     "type":"CODE",
     "hide_input_from_viewers":false,
     "hide_output_from_viewers":false
    }
   }
  },
  {
   "cell_type":"code",
   "source":[
    "df3.describe()['gross_per_budget']"
   ],
   "execution_count":108,
   "outputs":[
    {
     "data":{
      "text\/html":[
       "<pre>count    1748.000000\n",
       "mean        5.037757\n",
       "std         6.977825\n",
       "min         0.000000\n",
       "25%         2.000000\n",
       "50%         3.000000\n",
       "75%         6.000000\n",
       "max       101.000000\n",
       "Name: gross_per_budget, dtype: float64<\/pre>"
      ]
     },
     "metadata":{
      
     },
     "output_type":"display_data"
    }
   ],
   "metadata":{
    "datalore":{
     "node_id":"ubJeZzgWj1XxhYHccgWzYT",
     "type":"CODE",
     "hide_input_from_viewers":false,
     "hide_output_from_viewers":false
    }
   }
  },
  {
   "cell_type":"code",
   "source":[
    "sns.boxplot(df3['gross_per_budget'])"
   ],
   "execution_count":109,
   "outputs":[
    {
     "name":"stderr",
     "text":[
      "\/opt\/python\/envs\/default\/lib\/python3.8\/site-packages\/seaborn\/_decorators.py:36: FutureWarning: Pass the following variable as a keyword arg: x. From version 0.12, the only valid positional argument will be `data`, and passing other arguments without an explicit keyword will result in an error or misinterpretation.\n",
      "  warnings.warn(\n"
     ],
     "output_type":"stream"
    },
    {
     "data":{
      "text\/plain":[
       "<AxesSubplot:xlabel='gross_per_budget'>"
      ]
     },
     "metadata":{
      
     },
     "output_type":"display_data"
    },
    {
     "data":{
      "image\/png":"[encoded data removed]"
     },
     "metadata":{
      "image\/png":{
       
      }
     },
     "output_type":"display_data"
    }
   ],
   "metadata":{
    "datalore":{
     "node_id":"6HpDW3kuihuf2w49PkwMYK",
     "type":"CODE",
     "hide_input_from_viewers":false,
     "hide_output_from_viewers":false
    }
   }
  },
  {
   "cell_type":"code",
   "source":[
    "#look like there some outliner statistically. But in the real world, it isn't imposible to make a move that make that much\n",
    "df4 = df3[['genre','gross_per_budget']]\n",
    "df4"
   ],
   "execution_count":113,
   "outputs":[
    {
     "data":{
      "text\/html":[
       "<div>\n",
       "<style scoped>\n",
       "    .dataframe tbody tr th:only-of-type {\n",
       "        vertical-align: middle;\n",
       "    }\n",
       "\n",
       "    .dataframe tbody tr th {\n",
       "        vertical-align: top;\n",
       "    }\n",
       "\n",
       "    .dataframe thead th {\n",
       "        text-align: right;\n",
       "    }\n",
       "<\/style>\n",
       "<table border=\"1\" class=\"dataframe\">\n",
       "  <thead>\n",
       "    <tr style=\"text-align: right;\">\n",
       "      <th><\/th>\n",
       "      <th>genre<\/th>\n",
       "      <th>gross_per_budget<\/th>\n",
       "    <\/tr>\n",
       "  <\/thead>\n",
       "  <tbody>\n",
       "    <tr>\n",
       "      <th>6237<\/th>\n",
       "      <td>Horror<\/td>\n",
       "      <td>101<\/td>\n",
       "    <\/tr>\n",
       "    <tr>\n",
       "      <th>4456<\/th>\n",
       "      <td>Horror<\/td>\n",
       "      <td>86<\/td>\n",
       "    <\/tr>\n",
       "    <tr>\n",
       "      <th>209<\/th>\n",
       "      <td>Family<\/td>\n",
       "      <td>75<\/td>\n",
       "    <\/tr>\n",
       "    <tr>\n",
       "      <th>3089<\/th>\n",
       "      <td>Comedy<\/td>\n",
       "      <td>73<\/td>\n",
       "    <\/tr>\n",
       "    <tr>\n",
       "      <th>4080<\/th>\n",
       "      <td>Comedy<\/td>\n",
       "      <td>73<\/td>\n",
       "    <\/tr>\n",
       "    <tr>\n",
       "      <th>...<\/th>\n",
       "      <td>...<\/td>\n",
       "      <td>...<\/td>\n",
       "    <\/tr>\n",
       "    <tr>\n",
       "      <th>4787<\/th>\n",
       "      <td>Action<\/td>\n",
       "      <td>0<\/td>\n",
       "    <\/tr>\n",
       "    <tr>\n",
       "      <th>5205<\/th>\n",
       "      <td>Comedy<\/td>\n",
       "      <td>0<\/td>\n",
       "    <\/tr>\n",
       "    <tr>\n",
       "      <th>3942<\/th>\n",
       "      <td>Biography<\/td>\n",
       "      <td>0<\/td>\n",
       "    <\/tr>\n",
       "    <tr>\n",
       "      <th>6312<\/th>\n",
       "      <td>Action<\/td>\n",
       "      <td>0<\/td>\n",
       "    <\/tr>\n",
       "    <tr>\n",
       "      <th>7081<\/th>\n",
       "      <td>Action<\/td>\n",
       "      <td>0<\/td>\n",
       "    <\/tr>\n",
       "  <\/tbody>\n",
       "<\/table>\n",
       "<p>1748 rows × 2 columns<\/p>\n",
       "<\/div>"
      ]
     },
     "metadata":{
      
     },
     "output_type":"display_data"
    }
   ],
   "metadata":{
    "datalore":{
     "node_id":"aklTm7VWw4iqxCrZjcaw5d",
     "type":"CODE",
     "hide_input_from_viewers":false,
     "hide_output_from_viewers":false
    }
   }
  },
  {
   "cell_type":"code",
   "source":[
    
   ],
   "execution_count":null,
   "outputs":[
    
   ],
   "metadata":{
    "datalore":{
     "node_id":"0E71TlWGJkfjUX4TlmgsXE",
     "type":"CODE",
     "hide_input_from_viewers":false,
     "hide_output_from_viewers":false
    }
   }
  }
 ],
 "metadata":{
  "kernelspec":{
   "display_name":"Python",
   "language":"python",
   "name":"python"
  },
  "datalore":{
   "version":1,
   "computation_mode":"JUPYTER",
   "package_manager":"pip",
   "base_environment":"default",
   "packages":[
    
   ]
  }
 },
 "nbformat":4,
 "nbformat_minor":4
}